{
 "cells": [
  {
   "cell_type": "markdown",
   "metadata": {
    "id": "y4qyR6y9x6So"
   },
   "source": [
    "![](https://raw.githubusercontent.com/climate-in-the-cloud/workshop/master/water-waves/space_time_diagram.png)\n",
    "\n",
    "# Lab E: Water waves\n",
    "\n",
    "In this lab, we will study surface gravity waves (water waves) to examine some concepts from wave theory: \n",
    "\n",
    "- Linear wave solutions\n",
    "- Dispersive and non-dispersive waves\n",
    "- Phase velocity and space-time diagrams\n",
    "\n",
    "To use this notebook, you will need Python 3 and the latest version of [Dedalus](http://dedalus-project.org/) installed on your local machine. \n",
    "\n",
    "If you do not have Python 3 and Dedalus, you can run the lab on [Google Colaboratory](http://colab.research.google.com). "
   ]
  },
  {
   "cell_type": "markdown",
   "metadata": {
    "id": "JeSyBT6r4tKN"
   },
   "source": [
    "## Introducing Colab\n",
    "\n",
    "[Google Colaboratory](http://colab.research.google.com/) (or \"Colab\", for short) is a python notebook that you can run in a browser window. Colab notebooks are just like Jupyter notebooks, except that they are hosted on the cloud. This means that you do not need to have python installed on your local machine --- you can run it straight from a web browser. \n",
    "\n",
    "You will need a (free) [Google Account](https://myaccount.google.com/intro) to run the notebooks. If you would prefer not to sign up, you can still read the notebook, but you won't be able to run the code cells. \n",
    "\n",
    "Colab should look and feel very similar to a Jupyter notebook. One minor difference is that the keyboard shortcut to execute a code cell is **CMD/CTRL+ENTER**, while **SHIFT+ENTER** will move you to the next cell. You can also click the play button to the left of each cell. \n",
    "\n",
    "Watch [Introduction to Colab](https://www.youtube.com/watch?v=inN8seMm7UI)  to learn more, or check out this [Overview of Colab Features](https://colab.research.google.com/notebooks/basic_features_overview.ipynb). "
   ]
  },
  {
   "cell_type": "markdown",
   "metadata": {
    "id": "RiKJBPtF4ulJ"
   },
   "source": [
    "##Colab and Google Drive\n",
    "\n",
    "Colab integrates with Google Drive, so you can save your notebook, figures, and movies to your own Drive if you would like. This is not required to run the lab, because figures and movies will be saved to the Colab virtual machine and displayed in your browser. \n",
    "\n",
    "If you would like to save your notebook, copy and paste the following code snippet to mount your Google Drive in Colab. The command will send you to a new browser window (make sure you allow pop-ups) to give permission for Colab to access your Drive. You can then locate your Google Drive by navigating to `drive/'My Drive'`: \n",
    "\n",
    "```\n",
    "from google.colab import drive\n",
    "drive.mount('/content/drive')\n",
    "!ls drive/'My Drive'\n",
    "```\n",
    "\n",
    "You can also save your notebook to Google Drive, or download a copy of the notebook file, using the **File Menu** in the top left corner. "
   ]
  },
  {
   "cell_type": "markdown",
   "metadata": {
    "id": "eFfWeWDdx6Ss"
   },
   "source": [
    "# Background \n",
    "\n",
    "\n",
    "![](https://raw.githubusercontent.com/climate-in-the-cloud/workshop/master/water-waves/domain.png)\n",
    "\n",
    "## Constant density incompressible flow in 2D \n",
    "\n",
    "In this lab we will study water waves propagating in a 2D domain of length $L$ and height $H$. We define $x$ to be the horizontal coordinate and $z$ to be the vertical coordinate. The dynamical fields we will work with are: \n",
    "\n",
    "$$\n",
    "\\mbox{2D velocity:} \\qquad \\mathbf{u} = u\\left(x,z,t\\right) \\mathbf{i} + w(x,z,t) \\, \\mathbf{k}\n",
    "$$\n",
    "\n",
    "$$\n",
    "\\mbox{Pressure:} \\qquad p = p(x,z,t)\n",
    "$$\n",
    "\n",
    "$$\n",
    "\\mbox{Surface height:} \\qquad \\eta = \\eta(x,t)\n",
    "$$\n",
    "\n",
    "where $\\mathbf{i}$ and $\\mathbf{k}$ are unit vectors in the $x$ and $z$-directions, respectively. Notice that the height of the upper surface is a function of $x$ and $t$ only. \n",
    "\n",
    "To keep things simple, we will assume that the water has constant density $\\rho = 1$ and linearize the equations of motion about a rest state. This means that we will be studying the evolution of very small perturbations to the fluid. The detailed derivation of these linearized equations is given at the end of this lab. \n",
    "\n",
    "## Linearized system\n",
    "\n",
    "![](https://raw.githubusercontent.com/climate-in-the-cloud/workshop/master/water-waves/boundary-conditions.png)\n",
    "\n",
    "The full linearized system of equations we want to solve are:  \n",
    "\n",
    "$$\n",
    "\\mbox{Incompressibility:} \\qquad \\partial_x \\, u + \\partial_z \\, w = 0,\n",
    "$$\n",
    "\n",
    "$$\n",
    "x\\mbox{-momentum:} \\qquad \\partial_t \\, u + \\partial_x \\, p = 0, \n",
    "$$\n",
    "\n",
    "$$\n",
    "z\\mbox{-momentum:} \\qquad \\partial_t \\, w + \\partial_z \\, p = 0, \n",
    "$$\n",
    "\n",
    "We also have boundary conditions (BC's) for each boundary of our domain. We will assume that the domain is periodic in the $x$-direction, so we impose _periodic boundary conditions_ so that $p$, $u$, and $w$ are all periodic functions in the $x$-direction. At the upper and upper boundaries we have: \n",
    "\n",
    "$$\n",
    "\\mbox{Lower BC:} \\qquad w = 0 \\quad \\mbox{on} \\quad z = -H,\n",
    "$$\n",
    "\n",
    "$$\n",
    "\\mbox{Upper BC:} \\qquad \\partial_t \\, p - g \\, w = 0 \\quad \\mbox{on} \\quad z = 0.\n",
    "$$\n",
    "\n",
    "Finally, although the surface height $\\eta$ does not appear explictly in the system of equations to solve, it is a diagnostic variable which can be calculated from the other (prognostic) quantities\n",
    "\n",
    "$$\n",
    "\\eta = p(z = 0) / g,\n",
    "$$\n",
    "\n",
    "where $g$ is the acceleration due to gravity. "
   ]
  },
  {
   "cell_type": "markdown",
   "metadata": {
    "id": "VvGQpLIux6Ss"
   },
   "source": [
    "# Experimental setup\n",
    "\n",
    "## Installing Dedalus\n",
    "\n",
    "We will use a python library called [Dedalus](http://dedalus-project.org/) to solve the linearized water wave equations. \n",
    "\n",
    "We start by installing Dedalus on the Colab virtual machine. This might take a few minutes. \n",
    "\n",
    "**Type SHIFT+ENTER (or click RUN from the menu above) to execute each cell.**"
   ]
  },
  {
   "cell_type": "code",
   "execution_count": null,
   "metadata": {
    "id": "X-O70KcE5H3P"
   },
   "outputs": [],
   "source": [
    "## Check Dedalus isn't already installed\n",
    "try:\n",
    "  import dedalus.public as de\n",
    "  print(\"Dedalus already installed\")\n",
    "except:\n",
    "  print(\"Dedalus not installed yet. Let's do it.\")\n",
    "\n",
    "  # Step 1: Install FFTW\n",
    "  !apt-get install libfftw3-dev\n",
    "  !apt-get install libfftw3-mpi-dev\n",
    "\n",
    "  # Step 2: Set paths for Dedalus installation\n",
    "  import os\n",
    "  os.environ['MPI_INCLUDE_PATH'] = \"/usr/lib/x86_64-linux-gnu/openmpi/include\"\n",
    "  os.environ['MPI_LIBRARY_PATH'] = \"/usr/lib/x86_64-linux-gnu\"\n",
    "  os.environ['FFTW_INCLUDE_PATH'] = \"/usr/include\"\n",
    "  os.environ['FFTW_LIBRARY_PATH'] = \"/usr/lib/x86_64-linux-gnu\"\n",
    "\n",
    "  # Step 3: Install Dedalus using pip\n",
    "  !pip3 install dedalus\n",
    "\n",
    "  # Step 4: Check Dedalus is importable\n",
    "  print()\n",
    "  print()\n",
    "  try:\n",
    "    import dedalus.public as de\n",
    "    print(\"Dedalus successfully installed :)\")\n",
    "  except:\n",
    "    print(\"Error installing Dedalus :(\")\n",
    "    raise"
   ]
  },
  {
   "cell_type": "markdown",
   "metadata": {
    "id": "EKHECiPX5Grd"
   },
   "source": [
    "\n",
    "## Libraries\n",
    "\n",
    "\n",
    "First we import the necessary libraries and call some commands so we can suppress some logging messages and plot figures in the Jupyter window. "
   ]
  },
  {
   "cell_type": "code",
   "execution_count": null,
   "metadata": {
    "id": "v154sfoHx6Ss"
   },
   "outputs": [],
   "source": [
    "import numpy as np\n",
    "import matplotlib.cm as cm\n",
    "import matplotlib.pyplot as plt\n",
    "\n",
    "from dedalus import public as de\n",
    "from dedalus.extras import flow_tools\n",
    "import time\n",
    "import os\n",
    "\n",
    "import logging\n",
    "logger = logging.getLogger(__name__)\n",
    "from IPython import display\n",
    "%matplotlib inline"
   ]
  },
  {
   "cell_type": "markdown",
   "metadata": {
    "id": "2_Rr7Rg1x6Ss"
   },
   "source": [
    "## Bases and Domains\n",
    "\n",
    "In Dedalus, \"Domain objects\" represent physical domains which are created by combining bases ($x$, $y$, etc). We create bases in Dedalus by specifying a set of orthogonal basis functions, for example, sines and cosines (Fourier) or polynominals (Chebyshev). \n",
    "\n",
    "The choice of basis functions depends on the symmetry of the problem: for a problem that is periodic in the $x$-direction, for example, we choose sines and cosines (Fourier) for the $x$ basis functions. If the problem is _not_ periodic in the $y$ direction, polynomials (Chebyshev) are a better choice for the $y$ basis functions. \n",
    "\n",
    "To build a domain, we tell Dedalus the name of the basis, the number of gridpoints, and the interval. We then give Dedalus a list of the bases and specify the datatype. \n",
    "\n",
    "In this problem, the domain is periodic in the $x$-direction, so we will choose sines and cosines (Fourier) for the $x$ basis functions. The problem is _not_ periodic in the $z$ direction, so polynomials (Chebyshev) are a better choice for the $z$ basis functions. "
   ]
  },
  {
   "cell_type": "code",
   "execution_count": null,
   "metadata": {
    "id": "6Bqrs0DCx6St"
   },
   "outputs": [],
   "source": [
    "# Parameters\n",
    "L, H, g = (2*np.pi, .1, 1.)\n",
    "nx, nz = 256,16 \n",
    "\n",
    "# Create bases and domain\n",
    "x_basis =   de.Fourier('x', nx, interval=(-L,L))\n",
    "z_basis = de.Chebyshev('z', nz, interval=(-H,0))\n",
    "domain = de.Domain([x_basis, z_basis], grid_dtype=np.float64)"
   ]
  },
  {
   "cell_type": "markdown",
   "metadata": {
    "id": "kyUej8JVx6St"
   },
   "source": [
    "## Initial value problem\n",
    "\n",
    "We need to specify what _kind_ of equation we are solving. This is an _initial value problem_, which we call using the command `IVP` from the Dedalus library. We also need to tell Dedalus the domain (i.e. the $x$ and $z$ bases), the dynamical variables ($u$, $w$ and $p$), and any parameters that appear in the problem ($g = 1$). "
   ]
  },
  {
   "cell_type": "code",
   "execution_count": null,
   "metadata": {
    "id": "CKU4Khp_x6St"
   },
   "outputs": [],
   "source": [
    "# Formulate the initial value problem\n",
    "problem = de.IVP(domain, variables=['p','u','w'])\n",
    "\n",
    "# Set parameters (gravity)\n",
    "problem.parameters['g'] = g"
   ]
  },
  {
   "cell_type": "markdown",
   "metadata": {
    "id": "YVyPE-74x6St"
   },
   "source": [
    "## Equation entry\n",
    "\n",
    "Now enter the equations and boundary conditions for our problem. As a reminder, these are: \n",
    "\n",
    "$$\n",
    "\\mbox{Incompressibility:} \\qquad \\partial_x \\, u + \\partial_z \\, w = 0,\n",
    "$$\n",
    "\n",
    "$$\n",
    "x\\mbox{-momentum:} \\qquad \\partial_t \\, u + \\partial_x \\, p = 0, \n",
    "$$\n",
    "\n",
    "$$\n",
    "z\\mbox{-momentum:} \\qquad \\partial_t \\, w + \\partial_z \\, p = 0, \n",
    "$$\n",
    "\n",
    "$$\n",
    "\\mbox{Lower BC:} \\qquad w = 0 \\quad \\mbox{on} \\quad z = -H,\n",
    "$$\n",
    "\n",
    "$$\n",
    "\\mbox{Upper BC:} \\qquad \\partial_t \\, p - g \\, w = 0 \\quad \\mbox{on} \\quad z = 0.\n",
    "$$\n",
    "\n",
    "You will do this using the commands \n",
    "\n",
    "```\n",
    "problem.add_equation(\" ... \")\n",
    "```\n",
    "\n",
    "and \n",
    "\n",
    "```\n",
    "problem.add_bc(\" ... \")\n",
    "```\n",
    "\n",
    "The dots are plain text expressions that can be made up of\n",
    "* The variables, parameters, and substitutions defined in the problem\n",
    "* Temporal derivatives as `'dt'`\n",
    "* Spatial derivatives as `'dx'` and `'dz'`\n",
    "* For boundary conditions, use `'left'` and `'right'` to indicate the end points. Here left and right refer to position on the interval. So for the $z$-axis, `'left'` refers to $z = -H$ and `'right'` refers to $z=0$. \n",
    "\n",
    "We don't need an equation for the surface height $\\eta$. Instead, we will calculate it from the model output.\n",
    "\n",
    "**Exercise 1: Enter the equations and boundary conditions in the cell below.**"
   ]
  },
  {
   "cell_type": "code",
   "execution_count": null,
   "metadata": {
    "id": "AXU_9jWXx6Su"
   },
   "outputs": [],
   "source": [
    "# equations\n",
    "problem.add_equation(\"dx(u) + dz(w) = 0\")\n",
    "#problem.add_equation(\"...\")\n",
    "\n",
    "# boundary conditions\n",
    "problem.add_bc(\"left(w) = 0\")\n",
    "#problem.add_bc(\"...\")"
   ]
  },
  {
   "cell_type": "markdown",
   "metadata": {
    "id": "L0-u_LXW1XvK"
   },
   "source": [
    "The solution to this exercise can be found at the end of this lab... but you should try to do it yourself first!"
   ]
  },
  {
   "cell_type": "markdown",
   "metadata": {
    "id": "YeN1BDBNx6Su"
   },
   "source": [
    "## Building a solver\n",
    "\n",
    "Now let's build the solver. We'll use a similar time-stepping method to our previous lab, specify the timestep and the criteria for stopping the simulation. \n",
    "\n",
    "If the solver does not build correctly, you might have made a mistake in your equations of motion or boundary conditions. "
   ]
  },
  {
   "cell_type": "code",
   "execution_count": null,
   "metadata": {
    "id": "vF6Ro2Isx6Su"
   },
   "outputs": [],
   "source": [
    "# Build solver\n",
    "solver = problem.build_solver(de.timesteppers.RK222)\n",
    "logger.info('Solver built')\n",
    "\n",
    "# timesteps\n",
    "T  = 4*L/np.sqrt(H); \n",
    "dt = T/1000\n",
    "\n",
    "# Integration parameters\n",
    "solver.stop_sim_time = T\n",
    "solver.stop_wall_time = 30 * 60.\n",
    "solver.stop_iteration = np.inf"
   ]
  },
  {
   "cell_type": "markdown",
   "metadata": {
    "id": "_J-oMZpfx6Su"
   },
   "source": [
    "## Setting initial conditions\n",
    "\n",
    "The initial condition will be applied to the vertical velocity at the upper surface: \n",
    "\n",
    "$$ \n",
    "w (z = H) = (1 + 20\\,x) \\, \\mbox{e}^{-20 \\, x^2}.\n",
    "$$\n",
    "\n",
    "Dedalus then derives initial conditions for the full fields by solving the linear boundary value problem at time $t = 0$. "
   ]
  },
  {
   "cell_type": "code",
   "execution_count": null,
   "metadata": {
    "id": "E8nYE-vcx6Sv"
   },
   "outputs": [],
   "source": [
    "# Get the bases from the object \"domain\" and the state variables from the object \"solver\"\n",
    "x, z = domain.grid(0), domain.grid(1)\n",
    "u = solver.state['u']\n",
    "w = solver.state['w']\n",
    "p = solver.state['p']\n",
    "\n",
    "# Use the same equations for the IVP to make initial state\n",
    "initial = de.LBVP(domain, variables=['u','w'])\n",
    "initial.add_equation(\"dx(u) + dz(w) = 0\")\n",
    "initial.add_equation(\"dz(u) - dx(w) = 0\")\n",
    "initial.add_bc(\" left(w) = 0\",)\n",
    "initial.add_bc(\"right(u) = 0\",condition=\"nx == 0\")\n",
    "\n",
    "# to modify the initial velocity, change this line \n",
    "initial.add_bc(\"right(w) = (1+20*x)*exp(-20*x**2)\",condition=\"nx != 0\")"
   ]
  },
  {
   "cell_type": "code",
   "execution_count": null,
   "metadata": {
    "id": "k5lqQ-Bix6Sv"
   },
   "outputs": [],
   "source": [
    "# solve for the initial state\n",
    "initial_solver = initial.build_solver()\n",
    "initial_solver.solve()\n",
    "u0 = initial_solver.state['u']\n",
    "w0 = initial_solver.state['w']\n",
    "\n",
    "w['g'] = np.copy(w0['g'])\n",
    "u['g'] = np.copy(u0['g'])"
   ]
  },
  {
   "cell_type": "markdown",
   "metadata": {
    "id": "FN3ULQvgx6Sv"
   },
   "source": [
    "Let's take a look at the resulting initial conditions for $u(x,z,t=0)$ and $w(x,z,t=0)$. By construction these are consistent with the boundary conditions and the linearized equations of motion.\n",
    "\n",
    "Note that when we plot fields in Dedalus, we need to specify that we are plotting the fields in gridspace or spectral space. In this case, we want to plot the velocities in gridspace, so we use `u0['g']` and `w0['g']`."
   ]
  },
  {
   "cell_type": "code",
   "execution_count": null,
   "metadata": {
    "id": "lkyUK0Rtx6Sv"
   },
   "outputs": [],
   "source": [
    "# plot the initial fields\n",
    "xx,zz = np.meshgrid(x,z,indexing='ij')\n",
    "\n",
    "f = plt.figure(figsize=(16,8))\n",
    "ax = f.add_subplot(2,1,1)\n",
    "cax = ax.contourf(xx, zz, u0['g'],cmap=plt.cm.coolwarm)\n",
    "ax.set(title='u(t = 0)')\n",
    "cbar = f.colorbar(cax)\n",
    "\n",
    "ax = f.add_subplot(2,1,2)\n",
    "cax = ax.contourf(xx, zz, w0['g'],cmap=plt.cm.coolwarm)\n",
    "ax.set(title='w(t = 0)')\n",
    "cbar = f.colorbar(cax)"
   ]
  },
  {
   "cell_type": "markdown",
   "metadata": {
    "id": "cbeLfPP4x6Sv"
   },
   "source": [
    "The surface height $\\eta$ is related to the pressure perturbation at the upper surface, \n",
    "\n",
    "$$\n",
    "\\eta = p(z = 0)/g.\n",
    "$$\n",
    "\n",
    "We will create a diagnostic variable, `eta`, that calculates the surface height at each timestep. \n",
    "\n",
    "The initial pressure perturbation $p$ is zero everywhere, i.e. the flow starts off in hydrostatic balance and with a flat surface. "
   ]
  },
  {
   "cell_type": "code",
   "execution_count": null,
   "metadata": {
    "id": "TXgc_fCAx6Sw"
   },
   "outputs": [],
   "source": [
    "# surface height\n",
    "eta = np.zeros((int(T//dt)+1,nx))\n",
    "eta[0] = np.copy(p['g'][:,-1])/g\n",
    "\n",
    "# Make plot of the intial pressure and surface height field\n",
    "f = plt.figure(figsize=(16,8))\n",
    "ax = plt.axes()\n",
    "cax = ax.contourf(xx, zz, p['g']-g*zz, vmin=0., vmax = 1.2*g*H, cmap=plt.cm.coolwarm)\n",
    "m = plt.cm.ScalarMappable(cmap=cm.coolwarm)\n",
    "m.set_array(p['g']-g*zz)\n",
    "m.set_clim(0., 1.2*g*H)\n",
    "plt.colorbar(m)\n",
    "ax.plot(x[:,0],eta[0],lw=4,color='k')\n",
    "ax.set(title='p(t = 0), eta(t = 0)')\n",
    "ax.set_xlim(-L,L)\n",
    "ax.set_ylim(-H,0.2*H)"
   ]
  },
  {
   "cell_type": "markdown",
   "metadata": {
    "id": "Hp-Zoaz3x6Sw"
   },
   "source": [
    "## Solving the problem\n",
    "\n",
    "Now we can run the simulation. We timestep our problem until a halting condition is reached, copying the grid values of the variables every 10 iterations. This should take less than a few minutes on most machines."
   ]
  },
  {
   "cell_type": "code",
   "execution_count": null,
   "metadata": {
    "id": "CETbpYpVx6Sw"
   },
   "outputs": [],
   "source": [
    "# Analysis\n",
    "p_list = [np.copy(p['g'])]\n",
    "t_list = [solver.sim_time]\n",
    "eta_list = [np.copy(p['g'][:,-1])/g]\n",
    "\n",
    "# Main loop\n",
    "try:\n",
    "    logger.info('Starting loop')\n",
    "    start_time = time.time()\n",
    "    while solver.ok:\n",
    "        dt = solver.step(dt)\n",
    "        if (solver.iteration-1)%10==0:\n",
    "            p_list.append(np.copy(p['g']))\n",
    "            t_list.append(solver.sim_time)    \n",
    "        if (solver.iteration-1) % 100 == 0:\n",
    "            logger.info('Iteration: %i, Time: %e, dt: %e' %(solver.iteration, solver.sim_time, dt))\n",
    "except:\n",
    "    logger.error('Exception raised, triggering end of main loop.')\n",
    "    raise\n",
    "finally:\n",
    "    end_time = time.time()\n",
    "    logger.info('Iterations: %i' %solver.iteration)\n",
    "    logger.info('Sim end time: %f' %solver.sim_time)\n",
    "    logger.info('Run time: %.2f sec' %(end_time-start_time))\n",
    "    logger.info('Run time: %f cpu-hr' %((end_time-start_time)/60/60*domain.dist.comm_cart.size))"
   ]
  },
  {
   "cell_type": "markdown",
   "metadata": {
    "id": "8K_4ReVvx6Sw"
   },
   "source": [
    "# Visualizing the flow\n",
    "\n",
    "## Normalizing the perturbation fields\n",
    "\n",
    "To visualize the flow, we will create images and movies of the perturbation fields, specifically, the pressure $p(x,z,t)$ and the surface height $\\eta(x,t)$. However, one subtlety of using linearized equations is that the resulting dynamics are only defined up to a multiplicative constant, i.e. an amplitude. \n",
    "\n",
    "We are free to choose the amplitudes of the perturbations as we like. Since we would like to visualize the pressure perturbations on top of the base state hydrostatic pressure and the surface perturbation on top of the full depth of the fluid, we will take the maximum pressure perturbation to the 1/10th of the pressure at the bottom of the domain $p_0(-H) = g H$. \n",
    "\n",
    "Once we have the pressure field, the surface perturbation is calculated from $\\eta(x,t) = p(x,z=0,t)/g$. By construction, the maximum amplitude of the surface perturbation will be 1/10th of the depth of the domain $H$. "
   ]
  },
  {
   "cell_type": "code",
   "execution_count": null,
   "metadata": {
    "id": "ZhvqL_mIx6Sw"
   },
   "outputs": [],
   "source": [
    "# normalize pressure and surface perturbation amplitudes\n",
    "\n",
    "p_list = p_list/np.max(np.abs(p_list))*0.1*g*H\n",
    "eta_list = p_list[:,:,-1]/g"
   ]
  },
  {
   "cell_type": "markdown",
   "metadata": {
    "id": "iXTjZtX3x6Sx"
   },
   "source": [
    "## Movie of pressure and surface height\n",
    "\n",
    "Let's make a movie of the pressure and surface height perturbation. First, we will plot the model output and save them it a directory given by the variable `plot_dir`. Then we will define a new function `save_movie`, that will create a movie from individual snapshots of the pressure and surface height. \n",
    "\n",
    "As you watch the movie, look carefully at what happens to the initial surface perturbation. Remember that the domain is periodic, so a wave that move off one side of the domain will come back in the other side! "
   ]
  },
  {
   "cell_type": "code",
   "execution_count": null,
   "metadata": {
    "id": "62Q6FEkYx6Sx"
   },
   "outputs": [],
   "source": [
    "# create a new directory plot_dir (if it doesn't already exist)\n",
    "plot_dir = 'plots_h' + str(H)\n",
    "if not os.path.exists(plot_dir):\n",
    "    os.makedirs(plot_dir)\n",
    "\n",
    "# Make plot of surface height\n",
    "for i in range(len(p_list)):\n",
    "    \n",
    "    # Make plot of the intial pressure and surface height field\n",
    "    f = plt.figure(figsize=(16,8))\n",
    "    ax = plt.axes()\n",
    "    cax = ax.contourf(xx, zz, p_list[i]-g*zz, vmin=0., vmax = 1.2*g*H, cmap=plt.cm.coolwarm)\n",
    "    m = plt.cm.ScalarMappable(cmap=cm.coolwarm)\n",
    "    m.set_array(p_list[i]-g*zz)\n",
    "    m.set_clim(0., 1.2*g*H)\n",
    "    plt.colorbar(m)\n",
    "    ax.plot(x[:,0],eta_list[i],lw=4,color='k')\n",
    "    ax.set_xlim(-L,L)\n",
    "    ax.set_ylim(-H,0.2*H)\n",
    "    f.savefig(plot_dir + '/height_{:0>3d}.png'.format(i),bbox_inches='tight')\n",
    "    plt.close()\n",
    "    if i%10 == 0: \n",
    "        print('Saved figure',i)"
   ]
  },
  {
   "cell_type": "code",
   "execution_count": null,
   "metadata": {
    "id": "QLTJrBuex6Sx"
   },
   "outputs": [],
   "source": [
    "def save_movie(image_filenames,movie_filename,framerate):\n",
    "    os.system('ffmpeg -r ' + str(framerate) + ' -i ' + image_filenames + ' -vb 20M -vcodec mpeg4 -y ' + movie_filename)\n",
    "    \n",
    "# make movie\n",
    "movie_filename = \"movie_h\" + str(H) + \".mp4\"\n",
    "save_movie(plot_dir + \"/height_%03d.png\",movie_filename,10)\n",
    "print('Created movie')"
   ]
  },
  {
   "cell_type": "markdown",
   "metadata": {
    "id": "579_exaa8BDh"
   },
   "source": [
    "The following script should play the movie in your browser. If it doesn't play, you can click on the folder symbol to the left of the notebook. From here, you can simply download the movie and play it on your computer. "
   ]
  },
  {
   "cell_type": "code",
   "execution_count": null,
   "metadata": {
    "id": "LpR3Ulqx8DFx"
   },
   "outputs": [],
   "source": [
    "# play movie\n",
    "from IPython.display import HTML\n",
    "from base64 import b64encode\n",
    "mp4 = open(movie_filename,'rb').read()\n",
    "data_url = \"data:video/mp4;base64,\" + b64encode(mp4).decode()\n",
    "HTML(\"\"\"\n",
    "<video width=800 controls>\n",
    "    <source src=\"%s\" type=\"video/mp4\">\n",
    "</video>\n",
    "\"\"\" % data_url)"
   ]
  },
  {
   "cell_type": "markdown",
   "metadata": {
    "id": "CZryys0ax6Sx"
   },
   "source": [
    "## Dispersion relation\n",
    "\n",
    "You might notice that the surface height perturbation appears to break up into individual waves that propagate at different speeds. The longest wavelength waves travel the fastest, while the shorter wavelength waves trail behind. \n",
    "\n",
    "The reason for this is that water waves are *dispersive waves*, which means that their phase speed (the speed of individial crests of the wave) depends on the wavelength. For water waves, the phase speed $c$ is given by\n",
    "\n",
    "$$\n",
    "c = \\sqrt{\\frac{g}{k} \\, \\tanh \\left( k H \\right)} \n",
    "$$\n",
    "\n",
    "where $k$, the *wavenumber*, is the number of waves in a distance $2 \\pi$. If the wavelength of the waves is given by $\\lambda$, then the wavenumber is \n",
    "\n",
    "$$\n",
    "k = \\frac{2 \\pi}{\\lambda}.\n",
    "$$\n",
    "\n",
    "We will derive the above relation in your next assignment. From this relation, we can see that the phase speed $c$ will depend on the wavelength $\\lambda$ as well as the depth of the domain $H$ and gravitational acceleration $g$. \n",
    "\n",
    "Let's look at the phase speed as a function of wavenumber. Remember that small values of $k$ correspond to long waves and large values of $k$ correspond to short waves. As you can see, short waves travel with a smaller phase speed than long waves, just as we saw in the movie. "
   ]
  },
  {
   "cell_type": "code",
   "execution_count": null,
   "metadata": {
    "id": "I4b0IKEmx6Sx"
   },
   "outputs": [],
   "source": [
    "# plot the phase speed as a function of wavenumber\n",
    "\n",
    "k = np.linspace(0.01,100)\n",
    "c = np.sqrt(g/k*np.tanh(k*H))\n",
    "\n",
    "f = plt.figure(figsize=(8,8))\n",
    "ax = plt.axes()\n",
    "ax.plot(k,c)\n",
    "ax.set_xlabel('Wavenumber k')\n",
    "ax.set_ylabel('Phase speed $c$ ')\n",
    "ax.set_title('Phase speed vs wavenumber')"
   ]
  },
  {
   "cell_type": "markdown",
   "metadata": {
    "id": "_paeZSr6x6Sy"
   },
   "source": [
    "## Shallow water and deep water waves\n",
    "\n",
    "Let's take a close look at the dispersion relation in the limit of short wavelength and long wavelength, respectively. \n",
    "\n",
    "For short wavelengths ($\\lambda$ much smaller than $H$, or $k H \\gg 1$) we can approximate the function \n",
    "\n",
    "$$\n",
    "\\tanh \\left( k H \\right) \\approx 1,\n",
    "$$\n",
    "\n",
    "which gives a phase speed\n",
    "\n",
    "$$\n",
    "c \\approx \\sqrt{\\frac{g}{k}} = \\sqrt{ \\frac{g \\lambda}{2 \\pi}}, \\qquad \\mbox{Deep water waves (short wavelength)}.\n",
    "$$\n",
    "\n",
    "These waves are called *deep water waves*, because the water depth $H$ is large compared with the wavelength. Deep water waves have a phase speed that depends on $k$, that is, they are *dispersive*. \n",
    "\n",
    "By contrast, for long wavelengths ($\\lambda$ much larger than $H$, or $k H \\ll 1$) we can approximate the function \n",
    "\n",
    "$$\n",
    "\\tanh \\left( k H \\right) \\approx k H,\n",
    "$$\n",
    "\n",
    "which gives a phase speed\n",
    "\n",
    "$$\n",
    "c \\approx \\sqrt{g H}, \\qquad \\mbox{Shallow water waves (long wavelength)}.\n",
    "$$\n",
    "\n",
    "These waves are called *shallow water waves*, because the water depth $H$ is small compared with the wavelength. Shallow water waves have a phase speed that does not depend on $k$, which means that they travel at the same speed, regardless of wavelength: in other words, they are *non-dispersive*. "
   ]
  },
  {
   "cell_type": "markdown",
   "metadata": {
    "id": "NoyjxzlUx6Sy"
   },
   "source": [
    "## Space-time diagram\n",
    "\n",
    "\n",
    "Another useful way to visualize dispersive and non-dispersive waves is using a *space-time diagram*. We plot the surface height perturbation as a function of distance $x$ (in the horizontal) and time $t$ (in the vertical). A wave crest propagating with a speed $c$ will trace out a line $x = c t$. \n",
    "\n",
    "Thus, we can visualize individual waves as diagnonal lines in a space time diagram. For dispersive waves (e.g. deep water waves), different wavelengths will travel with different phase speeds, which we visualize as lines on the space time diagram with different slopes. For non-dispersive waves (e.g. shallow water waves), all wavelengths travel at the same speed, so we will see lines with only one slope on the space time diagram. \n",
    "\n",
    "In this figure, we plot the space time diagram of the surface height. On top of this, we will trace lines with slope $c = \\sqrt{g H}$, which corresponds to the phase speed of shallow water waves. "
   ]
  },
  {
   "cell_type": "code",
   "execution_count": null,
   "metadata": {
    "id": "T53gMfjEx6Sy"
   },
   "outputs": [],
   "source": [
    "import matplotlib.pyplot as plt\n",
    "\n",
    "from dedalus.extras.plot_tools import quad_mesh, pad_limits\n",
    "\n",
    "t_plot = np.linspace(0,T,len(eta_list))\n",
    "\n",
    "xmesh, ymesh = quad_mesh(x=x[:,0], y=t_plot)\n",
    "\n",
    "fig, ax = plt.subplots(figsize=(12,12))\n",
    "\n",
    "ax.pcolormesh(xmesh, ymesh, eta_list, cmap='RdBu_r',clim=(-0.1,0.1))\n",
    "\n",
    "# add characteristics for shallow water waves\n",
    "for i in range(int(1 + 0.5*T*np.sqrt(g*H)/L)):\n",
    "    ax.plot(t_plot*np.sqrt(g*H)-2*i*L,t_plot,color='k')\n",
    "    ax.plot(-t_plot*np.sqrt(g*H)+2*i*L,t_plot,color='k')\n",
    "    \n",
    "ax.axis(pad_limits(xmesh, ymesh))\n",
    "ax.set_xlabel('space (x)')\n",
    "ax.set_ylabel('time (t)')\n",
    "ax.set_title('$surface height$')\n",
    "fig.savefig('spacetime_h' + str(H) + '.png')"
   ]
  },
  {
   "cell_type": "markdown",
   "metadata": {
    "id": "987OSSzAx6Sy"
   },
   "source": [
    "## Now try it yourself\n",
    "\n",
    "\n",
    "Use this notebook to experiment with the advection diffusion problem. Add your observations, comments, and calculations to the notebook by double clicking the cells to enter new text. You can then press **shift+enter** to turn the cell back into readable form. \n",
    "\n",
    "When you make changes to the problem parameters or initial conditions, you will need to rebuild the solver. To do this, just re-run each cell from the beginning (or use the \"fast forward\" symbol in the menu above). "
   ]
  },
  {
   "cell_type": "markdown",
   "metadata": {
    "id": "P7108sYDx6Sy"
   },
   "source": [
    "- Change the height $H$ of the domain and re-run the experiment. All plots, movies etc will be saved with a new name, for example the plots will be saved in a different directory. So don't worry about overwriting what you already plotted. \n",
    "- Look at values of $H$ between 0.01 (very shallow) to 1.0 (very deep). How does the initial perturbation evolve in each case? What about the space-time diagram? Are the waves dispersive or non-dispersive?\n",
    "- Does modifying $g$ change anything?"
   ]
  },
  {
   "cell_type": "markdown",
   "metadata": {
    "id": "Rsh5hamnx6Sy"
   },
   "source": [
    "- Why does the initial surface perturbation break up into individual waves for large values of $H$? Why does it stay coherent for small values of $H$? \n",
    "- Change the initial velocity condition for $w$ and see how it changes the resulting flow. "
   ]
  },
  {
   "cell_type": "markdown",
   "metadata": {
    "id": "AH9MlA3fx6Sz"
   },
   "source": [
    "- Think about how you would modify the equations of motion to model 3D waves. What boundary conditions could you impose? "
   ]
  },
  {
   "cell_type": "markdown",
   "metadata": {
    "id": "RFlHBRw01nuD"
   },
   "source": [
    "# Appendix 1: Equations of motion\n",
    "\n",
    "## Constant density incompressible flow in 2D \n",
    "\n",
    "In this lab we will study water waves propagating in a 2D domain of length $L$ and height $H$. We define $x$ to be the horizontal coordinate and $z$ to be the vertical coordinate, so that the 2D velocity field is\n",
    "\n",
    "$$\n",
    "\\mathbf{u} = \\left( u, w \\right).\n",
    "$$\n",
    "\n",
    "### Continuity equation\n",
    "\n",
    "The continuity equation is\n",
    "\n",
    "$$\n",
    "\\partial_t \\rho = - \\nabla \\cdot \\left( \\rho \\mathbf{u} \\right).\n",
    "$$\n",
    "\n",
    "Note that we are using the 2D differential operator $\\nabla = \\left( \\partial_x, \\partial_z\\right)$. To keep things simple, we will assume that the water has constant density $\\rho = 1$. Substituting this into the continuity equation, we immediately find\n",
    "\n",
    "$$\n",
    "\\mbox{Continuity equation:} \\qquad \\nabla \\cdot \\mathbf{u} = 0.\n",
    "$$\n",
    "\n",
    "Thus, the flow is incompressible, i.e. the velocity field has zero divergence everywhere. \n",
    "\n",
    "### Momentum equation\n",
    "\n",
    "In addition we have the momentum equation with gravity acting in the $z$-direction.\n",
    "\n",
    "$$\n",
    "\\partial_t \\mathbf{u} + \\mathbf{u} \\cdot \\nabla \\mathbf{u} = - \\nabla p - g \\mathbf{\\hat{z}}\n",
    "$$\n",
    "\n",
    "We can write this in terms of individual equations for the horizontal velocity $u$ and vertical velocity $w$: \n",
    "\n",
    "$$\n",
    "x\\mbox{-momentum equation:} \\qquad \\partial_t u + u \\, \\partial_x u + w \\, \\partial_z u = - p_x,\n",
    "$$\n",
    "\n",
    "$$\n",
    "z\\mbox{-momentum equation:} \\qquad \\partial_t w + u \\, \\partial_x w + w \\, \\partial_z w = - p_z - g.\n",
    "$$"
   ]
  },
  {
   "cell_type": "markdown",
   "metadata": {
    "id": "T0JQrR2_4OK7"
   },
   "source": [
    "## Boundary conditions\n",
    "\n",
    "\n",
    "So far the flow doesn't know anything about the domain: we need to specify boundary conditions at the left and right sides and the upper and lower boundaries. \n",
    "\n",
    "### No-normal flow condition\n",
    "\n",
    "At the lower boundary, we don't want the fluid to move through the bottom of the domain. So we set the vertical velocity there to be zero,\n",
    "\n",
    "$$\n",
    "\\mbox{No-normal flow BC:} \\qquad w = 0 \\quad \\mbox{at} \\quad z = -H. \n",
    "$$\n",
    "\n",
    "This is called a _no normal-flow condition_: the velocity normal to the boundary is zero. \n",
    "\n",
    "### Kinematic boundary condition\n",
    "\n",
    "At the upper boundary, the height of the fluid surface will vary in time and space. We will describe the height of the upper surface in terms of a deviation from its resting height at $z = 0$, \n",
    "\n",
    "$$\n",
    "z = \\eta(x,t).\n",
    "$$\n",
    "\n",
    "At any moment in time, the rate of change of $\\eta(x,t)$ will be given by the vertical velocity at the upper surface,\n",
    "\n",
    "$$\n",
    "\\mbox{Kinematic BC:} \\qquad \\frac{d \\eta}{d t} = \\partial_t \\eta + u \\, \\eta_x = w \\quad \\mbox{at} \\quad z = \\eta (x,t).\n",
    "$$\n",
    "\n",
    "This is called the _kinematic boundary condition_ at the upper surface. \n",
    "\n",
    "### Pressure boundary condition\n",
    "\n",
    "We also need to specify the pressure at the upper surface. In particular, we set the pressure in the fluid to match that in the air above. We are free to set the air pressure to be anything we like, so let's take it to be zero. This gives us the _pressure boundary condition_ at the upper boundary\n",
    "\n",
    "$$\n",
    "\\mbox{Pressure BC:} \\qquad p = 0 \\quad \\mbox{at} \\quad z = \\eta(x,t).\n",
    "$$\n",
    "\n",
    "### Periodic boundary condition\n",
    "\n",
    "Finally, we need to specify the boundary conditions at the left and right sides of the domain. We will assume that the domain is periodic in the $x$-direction, so we impose _periodic boundary conditions_ so that $p$, $u$, and $w$ are all periodic functions in the $x$-direction. "
   ]
  },
  {
   "cell_type": "markdown",
   "metadata": {
    "id": "Ejtc9vDj4St3"
   },
   "source": [
    "## Linear wave theory\n",
    "\n",
    "### Basic state\n",
    "\n",
    "Before we add waves to the system, let's first consider the solution when there is no motion. We call this the basic state, which we will indicate with a subscript $0$. In the basic state, the velocities are zero and the surface will be at rest, so\n",
    "\n",
    "$$\n",
    "u_0 = w_0 = \\eta_0.\n",
    "$$\n",
    "\n",
    "The pressure however will satisfy the hydrostatic balance equation:\n",
    "\n",
    "$$\n",
    "\\partial_z \\; p_0 = - g, \\qquad p_0(z) = -g z,\n",
    "$$\n",
    "\n",
    "where we have made use of the upper surface pressure boundary condition in the last equation. "
   ]
  },
  {
   "cell_type": "markdown",
   "metadata": {
    "id": "KMl8ac_R4YIL"
   },
   "source": [
    "### Small perturbations\n",
    "\n",
    "Now let's consider very small perturbations to the basic state:\n",
    "\n",
    "$$\n",
    "u = u', \\quad w = w', \\quad \\eta = \\eta', \\quad p = p_0(z) + p',\n",
    "$$\n",
    "\n",
    "where all the variables with dashes have small amplitudes. Substituting these into the incompressibility condition and $x$ and $z$ momentum equations gives\n",
    "\n",
    "$$\n",
    "\\mbox{Incompressibility:} \\qquad \\partial_x \\; u' + \\partial_z \\; w' = 0.\n",
    "$$\n",
    "\n",
    "$$\n",
    "x\\mbox{-momentum equation:} \\qquad \\partial_t u' + u' \\; \\partial_x u' + w' \\; \\partial_z u' = - \\partial_x p'.\n",
    "$$\n",
    "\n",
    "$$\n",
    "z\\mbox{-momentum equation:} \\qquad \\partial_t w' + u' \\; \\partial_x w' + w' \\; \\partial_z w' = - \\partial_z p'.\n",
    "$$\n",
    "\n",
    "Notice that the basic state pressure $p_0(z)$ cancels the gravitational acceleration in the last equation.\n",
    "\n",
    "We also need to consider what happens to the boundary conditions. The no-normal flow condition at the bottom boundary and the kinematic boundary condition at the upper boundary will be unchanged\n",
    "\n",
    "$$\n",
    "\\mbox{No-normal flow condition:} \\qquad w' = 0 \\quad \\mbox{on} \\quad z = -H.\n",
    "$$\n",
    "\n",
    "$$\n",
    "\\mbox{Kinematic boundary condition:} \\qquad \\partial_t \\eta' + u' \\; \\partial_x \\eta' = w', \\quad \\mbox{on} \\quad z = \\eta'.\n",
    "$$\n",
    "\n",
    "However, we need to change the pressure boundary condition at the upper boundary to take into account the basic state pressure, i.e,\n",
    "\n",
    "$$\n",
    "p_0 + p' = 0, \\quad \\mbox{on} \\quad z = \\eta'.\n",
    "$$\n",
    "\n",
    "Using $p_0(z) = - g z$ and setting $z = \\eta'$, this becomes\n",
    "\n",
    "$$\n",
    "\\mbox{Pressure boundary condition:} \\qquad p' - g \\eta' = 0, \\quad \\mbox{on} \\quad z = \\eta'.\n",
    "$$"
   ]
  },
  {
   "cell_type": "markdown",
   "metadata": {
    "id": "QLfQ15K14ewB"
   },
   "source": [
    "### Linearized equations of motion \n",
    "\n",
    "We have assumed that the variables $u'$, $w'$, $p'$ and $\\eta'$ are all small quantities. This implies that we can neglect any nonlinear terms involving these quantities in the equations of motion. \n",
    "\n",
    "The incompressibility condition is already linear in $u'$ and $w'$, so there are no nonlinear terms to discard. Thus, we leave this equation as it is: \n",
    "\n",
    "$$\n",
    "\\mbox{Incompressibility:} \\qquad \\partial_x \\, u' + \\partial_z \\, w' = 0.\n",
    "$$\n",
    "\n",
    "The $x$-momentum equation, on the other hand, has two nonlinearities: $u' \\, \\partial_x \\, u'$ and $w' \\, \\partial_z \\, u'$. We neglect each of these to obtain\n",
    "\n",
    "$$\n",
    "x\\mbox{-momentum equation:} \\qquad \\partial_t \\,u' = - \\partial_x \\,p'.\n",
    "$$\n",
    "\n",
    "Likewise, neglecting the nonlinearities in the $z$-momentum equation gives\n",
    "\n",
    "$$\n",
    "z\\mbox{-momentum equation:} \\qquad \\partial_t \\,w' = - \\partial_z \\,p'.\n",
    "$$"
   ]
  },
  {
   "cell_type": "markdown",
   "metadata": {
    "id": "95RJAzdI4jeM"
   },
   "source": [
    "### Linearized boundary conditions \n",
    "\n",
    "We also need to deal with the nonlinearities appearing in the boundary conditions. The no-normal flow condition is already linear, so it is unchanged: \n",
    "\n",
    "$$\n",
    "\\mbox{No-normal flow condition:} \\qquad w' = 0 \\quad \\mbox{on} \\quad z = -H.\n",
    "$$\n",
    "\n",
    "The pressure boundary condition, $p' - g \\, \\eta' = 0$ at the upper surface, _appears_ to be linear too. However, the boundary conditon is applied at the upper surface $z = \\eta'$, which makes the boundary condition nonlinear. This can be clearly seen by Taylor expanding about the point $z = 0$\n",
    "\n",
    "$$\n",
    "p'(z = \\eta') = p'(z = 0) + \\partial_z \\, p' (0) \\; \\eta' + \\cdots \n",
    "$$\n",
    "\n",
    "Thus, we neglect the nonlinearities by evaluating the upper boundary condition at $z = 0$ rather than $z = \\eta'$\n",
    "\n",
    "$$\n",
    "\\mbox{Pressure boundary condition:} \\qquad p' - g \\, \\eta' = 0, \\quad \\mbox{on} \\quad z = 0.\n",
    "$$\n",
    "\n",
    "Finally, the kinematic boundary condition has the nonlinearity $u' \\partial_x \\, \\eta'$ as well as the nonlinearity due to evaluation at the upper surface $z = \\eta'$. We neglect the first and remove the second by evaluating the boundary condition at $z = 0$: \n",
    "\n",
    "$$\n",
    "\\mbox{Kinematic boundary condition:} \\qquad \\partial_t \\, \\eta'  = w', \\quad \\mbox{on} \\quad z = 0.\n",
    "$$\n",
    "\n",
    "As a final step, we eliminate $\\eta'$ by combining the last two conditions into a single boundary condition at the upper boundary: \n",
    "\n",
    "$$\n",
    "\\mbox{Upper boundary condition:} \\qquad \\partial_t \\, p' - g \\, w' = 0, \\quad \\mbox{on} \\quad z = 0.\n",
    "$$"
   ]
  },
  {
   "cell_type": "markdown",
   "metadata": {
    "id": "CvfA0ZLu1sTU"
   },
   "source": [
    "# Appendix 2: Solutions to exercises"
   ]
  },
  {
   "cell_type": "markdown",
   "metadata": {
    "id": "wJMbQLts1wZk"
   },
   "source": [
    "**Exercise 1: Dedalus equation entry for linearized equations of motion**\n",
    "\n",
    "```\n",
    "# equations\n",
    "problem.add_equation(\"dx(u) + dz(w) = 0\")\n",
    "problem.add_equation(\"dt(u) + dx(p) = 0\")\n",
    "problem.add_equation(\"dt(w) + dz(p) = 0\")\n",
    "\n",
    "# boundary conditions\n",
    "problem.add_bc(\"left(w) = 0\")\n",
    "problem.add_bc(\"right(dt(p) - g*w) = 0\")\n",
    "```"
   ]
  }
 ],
 "metadata": {
  "celltoolbar": "Slideshow",
  "colab": {
   "collapsed_sections": [],
   "name": "water-waves.ipynb",
   "provenance": []
  },
  "kernelspec": {
   "display_name": "Python 3",
   "language": "python",
   "name": "python3"
  },
  "language_info": {
   "codemirror_mode": {
    "name": "ipython",
    "version": 3
   },
   "file_extension": ".py",
   "mimetype": "text/x-python",
   "name": "python",
   "nbconvert_exporter": "python",
   "pygments_lexer": "ipython3",
   "version": "3.6.5"
  }
 },
 "nbformat": 4,
 "nbformat_minor": 1
}

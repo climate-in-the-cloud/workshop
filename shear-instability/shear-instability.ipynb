{
  "nbformat": 4,
  "nbformat_minor": 0,
  "metadata": {
    "kernelspec": {
      "display_name": "Python 3",
      "language": "python",
      "name": "python3"
    },
    "language_info": {
      "codemirror_mode": {
        "name": "ipython",
        "version": 3
      },
      "file_extension": ".py",
      "mimetype": "text/x-python",
      "name": "python",
      "nbconvert_exporter": "python",
      "pygments_lexer": "ipython3",
      "version": "3.7.1"
    },
    "colab": {
      "name": "shear-instability.ipynb",
      "provenance": [],
      "collapsed_sections": []
    }
  },
  "cells": [
    {
      "cell_type": "markdown",
      "metadata": {
        "id": "Zo1EIzBWhFqu"
      },
      "source": [
        "![](https://raw.githubusercontent.com/climate-in-the-cloud/workshop/master/shear-instability/KHinst.png)\n",
        "\n",
        "# Lab F4: Shear instability\n",
        "\n",
        "In this lab, we will simulate instability of parallel shear flow and discuss: \n",
        "\n",
        "- using a passive tracer to visualize the flow\n",
        "- unstable growth of small perturbations\n",
        "- dissipation and energy \n",
        "\n",
        "To use this notebook, you will need Python 3 and the latest version of [Dedalus](http://dedalus-project.org/) installed on your local machine. \n",
        "\n",
        "If you do not have Python 3 and Dedalus, you can run the lab on [Google Colaboratory](http://colab.research.google.com). "
      ]
    },
    {
      "cell_type": "markdown",
      "metadata": {
        "id": "Mh8YOdWnhQcS"
      },
      "source": [
        "## Introducing Colab\n",
        "\n",
        "[Google Colaboratory](http://colab.research.google.com/) (or \"Colab\", for short) is a python notebook that you can run in a browser window. Colab notebooks are just like Jupyter notebooks, except that they are hosted on the cloud. This means that you do not need to have python installed on your local machine --- you can run it straight from a web browser. \n",
        "\n",
        "You will need a (free) [Google Account](https://myaccount.google.com/intro) to run the notebooks. If you would prefer not to sign up, you can still read the notebook, but you won't be able to run the code cells. \n",
        "\n",
        "Colab should look and feel very similar to a Jupyter notebook. One minor difference is that the keyboard shortcut to execute a code cell is **CMD/CTRL+ENTER**, while **SHIFT+ENTER** will move you to the next cell. You can also click the play button to the left of each cell. \n",
        "\n",
        "Watch [Introduction to Colab](https://www.youtube.com/watch?v=inN8seMm7UI)  to learn more, or check out this [Overview of Colab Features](https://colab.research.google.com/notebooks/basic_features_overview.ipynb). "
      ]
    },
    {
      "cell_type": "markdown",
      "metadata": {
        "id": "sSC7YvKGhTLw"
      },
      "source": [
        "##Colab and Google Drive\n",
        "\n",
        "Colab integrates with Google Drive, so you can save your notebook, figures, and movies to your own Drive if you would like. This is not required to run the lab, because figures and movies will be saved to the Colab virtual machine and displayed in your browser. \n",
        "\n",
        "If you would like to save your notebook, copy and paste the following code snippet to mount your Google Drive in Colab. The command will send you to a new browser window (make sure you allow pop-ups) to give permission for Colab to access your Drive. You can then locate your Google Drive by navigating to `drive/'My Drive'`: \n",
        "\n",
        "```\n",
        "from google.colab import drive\n",
        "drive.mount('/content/drive')\n",
        "!ls drive/'My Drive'\n",
        "```\n",
        "\n",
        "You can also save your notebook to Google Drive, or download a copy of the notebook file, using the **File Menu** in the top left corner. "
      ]
    },
    {
      "cell_type": "markdown",
      "metadata": {
        "id": "Ae-Ma3tshFqz"
      },
      "source": [
        "# Background\n",
        "\n",
        "## Parallel shear flow\n",
        "\n",
        "In this lab we will examine the evolution of simple shear flows. These are flows that satisfy the equations of motion for a single shallow water layer that we have previously seen. The only difference is that we will impose an initial velocity in the $x$-direction, and allow it to vary in the $y$-direction:\n",
        "\n",
        "$$\n",
        "\\boldsymbol{u} = \\left( U(y), 0 \\right).\n",
        "$$\n",
        "\n",
        "This type of flow is called a *parallel shear flow* because the flow is parallel at every point --- there is no curvature in the flow --- but it has some variation in the perpendicular direction. Notice that this flow automatically (and trivially) satisfies the incompressibility condition, $u_x + v_y = 0$. \n",
        "\n",
        "In this lab we will ignore the effect of rotation, that is, we will look at the case of $f_0 = \\beta = 0$. "
      ]
    },
    {
      "cell_type": "markdown",
      "metadata": {
        "id": "8VEvYt9zhFq0"
      },
      "source": [
        "## The Kelvin-Helmholtz Problem\n",
        "\n",
        "The simplest type of parallel shear flow is the *Kelvin-Helmholtz problem*. In this problem, we consider a flow initially moving with constant velocity $U$ in the lower half of the domain and with velocity $-U$ in the upper half of the domain,\n",
        "\n",
        "$$\n",
        "\\boldsymbol{u}(x,y,0) = \\left\\{ \\begin{array}{ccc} - U & \\mbox{for} & y \\ge 0, \\\\ U & \\mbox{for} & y < 0. \\end{array} \\right. \n",
        "$$\n",
        "\n",
        "![](https://raw.githubusercontent.com/climate-in-the-cloud/workshop/master/shear-instability/KH_setup.png)\n",
        "\n",
        "These kinds of flows frequently occur in nature, for example when two air masses of similar density flow over each other in opposite directions. In our application, we imagine that this flow has been set up by moving plates at the upper and lower boundaries of the domain in opposite directions. \n",
        "\n",
        "The equations of motion for this flow (taking $\\rho = 1$) are\n",
        "\n",
        "$$ \n",
        "\\partial_t u + \\boldsymbol{u}\\boldsymbol{\\cdot}\\boldsymbol{\\nabla} u + \\partial_x p = A \\nabla^2 u, \\qquad x-\\mbox{momentum equation}\n",
        "$$\n",
        "\n",
        "$$ \n",
        "\\partial_t v + \\boldsymbol{u}\\boldsymbol{\\cdot}\\boldsymbol{\\nabla} v + \\partial_y p = A \\nabla^2 v, \\qquad y-\\mbox{momentum equation} \n",
        "$$\n",
        "\n",
        "$$ \n",
        "\\boldsymbol{\\nabla}\\boldsymbol{\\cdot}\\boldsymbol{u} = 0. \\qquad \\mbox{incompressibility}\n",
        "$$\n",
        "\n",
        "Since the flow is unstable, we expect the initial flow profile to break up and eventually dissipate. The dissipation is achieved by diffusion, which appears as the terms $A \\nabla^2 u$ and $A \\nabla^2 v$ on the right-hand sides of the $x$ and $y$ momentum equations. Here, the parameter $A$ represents the *diffusivity*. \n",
        "\n",
        "We will evolve the equations in a rectangular box with $L_x = 2$ and $L_y = 1$. For boundary conditions, we will assume that the box is periodic in $x$ direction, and use a *no-slip boundary condition* in the $y$ direction. This means that the velocity at top and bottom matches the velocity of the boundary itself: \n",
        "\n",
        "$$\n",
        "u = -U, \\; v = 0 \\qquad \\mbox{at} \\qquad y = Ly/2,\n",
        "$$\n",
        "\n",
        "$$\n",
        "u = U, \\; v = 0 \\qquad \\mbox{at} \\qquad y = -Ly/2,\n",
        "$$"
      ]
    },
    {
      "cell_type": "markdown",
      "metadata": {
        "id": "_se9ffkyhFq0"
      },
      "source": [
        "## Passive tracer\n",
        "\n",
        "In a real laboratory experiment, we often use colored dye to help visualize flows. By adding a few drops of dye, we can see the complicated flow patterns and structures that form. In nature, the same thing happens with water vapour (in the atmosphere) or phytoplankton (in the ocean). \n",
        "\n",
        "We will use a similar technique in our simulation using a kind of numerical dye called a *passive tracer*. Specifically, we add another equation to solve\n",
        "\n",
        "$$ \\partial_t C + \\boldsymbol{u}\\boldsymbol{\\cdot}\\boldsymbol{\\nabla} C = A \\nabla^2 C $$\n",
        "\n",
        "Here, $C(x,y,t)$ is the concentration of a dye that is moved around by the flow: it is *tracer* because it allows us to trace the evolution of parcels of fluid, and it is *passive* because it does not affect the evolution of the flow in any way. \n",
        "\n",
        "We will start our experiment with the tracer in the lower half the domain. Specifically, we will set the initial value of $C$ to be $1$ in the lower half of the domain, and $0$ in the upper half\n",
        "\n",
        "$$\n",
        "C(x,y,0) = \\left\\{ \\begin{array}{ccc} 0 & \\mbox{for} & y \\ge 0, \\\\ 1 & \\mbox{for} & y < 0. \\end{array} \\right. \n",
        "$$\n",
        "\n",
        "Just as with the momentum equations, the initial tracer distribution will be deformed by the unstable flow and will be ultimately dissipated. This is achieved by a diffusion term $A \\nabla^2 C$ on the right-hand side of the passive tracer evolution equation. We don't have to use the same value $A$ for the diffusivity in the momentum equations and the passive tracer equation: it is just a convenience. "
      ]
    },
    {
      "cell_type": "markdown",
      "metadata": {
        "id": "XHWJr1KAhFq0"
      },
      "source": [
        "# Experimental setup\n",
        "\n",
        "## Installing Dedalus\n",
        "\n",
        "We will use a python library called [Dedalus](http://dedalus-project.org/) to solve the linearized water wave equations. \n",
        "\n",
        "We start by installing Dedalus on the Colab virtual machine. This might take a few minutes. \n",
        "\n",
        "**Type SHIFT+ENTER (or click RUN from the menu above) to execute each cell.**\n"
      ]
    },
    {
      "cell_type": "code",
      "metadata": {
        "id": "zNSGdKWshbE_"
      },
      "source": [
        "## Check Dedalus isn't already installed\n",
        "try:\n",
        "  import dedalus.public as de\n",
        "  print(\"Dedalus already installed\")\n",
        "except:\n",
        "  print(\"Dedalus not installed yet. Let's do it.\")\n",
        "\n",
        "  # Step 1: Install FFTW\n",
        "  !apt-get install libfftw3-dev\n",
        "  !apt-get install libfftw3-mpi-dev\n",
        "\n",
        "  # Step 2: Set paths for Dedalus installation\n",
        "  import os\n",
        "  os.environ['MPI_INCLUDE_PATH'] = \"/usr/lib/x86_64-linux-gnu/openmpi/include\"\n",
        "  os.environ['MPI_LIBRARY_PATH'] = \"/usr/lib/x86_64-linux-gnu\"\n",
        "  os.environ['FFTW_INCLUDE_PATH'] = \"/usr/include\"\n",
        "  os.environ['FFTW_LIBRARY_PATH'] = \"/usr/lib/x86_64-linux-gnu\"\n",
        "\n",
        "  # Step 3: Install Dedalus using pip\n",
        "  !pip3 install dedalus\n",
        "\n",
        "  # Step 4: Check Dedalus is importable\n",
        "  print()\n",
        "  print()\n",
        "  try:\n",
        "    import dedalus.public as de\n",
        "    print(\"Dedalus successfully installed :)\")\n",
        "  except:\n",
        "    print(\"Error installing Dedalus :(\")\n",
        "    raise"
      ],
      "execution_count": null,
      "outputs": []
    },
    {
      "cell_type": "markdown",
      "metadata": {
        "id": "FZTq8kchhFq0"
      },
      "source": [
        "## Libraries\n",
        "\n",
        "First we import the libraries we will use, including `numpy`, `matplotlib` and `dedalus`. "
      ]
    },
    {
      "cell_type": "code",
      "metadata": {
        "id": "xmClRqe8hFq1"
      },
      "source": [
        "import numpy as np\n",
        "import matplotlib.pyplot as plt\n",
        "from dedalus import public as de\n",
        "from dedalus.extras import flow_tools\n",
        "from IPython import display"
      ],
      "execution_count": null,
      "outputs": []
    },
    {
      "cell_type": "markdown",
      "metadata": {
        "id": "55TnZLDohFq1"
      },
      "source": [
        "## Output and logging\n",
        "\n",
        "Now we add some commands to plot figures and show log messages in the `jupyter` window."
      ]
    },
    {
      "cell_type": "code",
      "metadata": {
        "id": "pwBjIiYthFq1"
      },
      "source": [
        "%matplotlib inline\n",
        "\n",
        "import logging\n",
        "root = logging.root\n",
        "for h in root.handlers:\n",
        "    h.setLevel(\"INFO\")\n",
        "    \n",
        "logger = logging.getLogger(__name__)"
      ],
      "execution_count": null,
      "outputs": []
    },
    {
      "cell_type": "markdown",
      "metadata": {
        "id": "i8ygT1VdhFq2"
      },
      "source": [
        "## Parameters\n",
        "\n",
        "The parameters in our problem are the size and resolution of the domain, the integration time, and the diffusivity. "
      ]
    },
    {
      "cell_type": "code",
      "metadata": {
        "id": "jXjBnOd0hFq2"
      },
      "source": [
        "# Domain size and resolution \n",
        "Lx, Ly = (2., 1.)\n",
        "nx, ny = (96, 48)\n",
        "\n",
        "# Integration time\n",
        "T = 10.01 \n",
        "\n",
        "# Diffusivity\n",
        "A = 1e-4"
      ],
      "execution_count": null,
      "outputs": []
    },
    {
      "cell_type": "markdown",
      "metadata": {
        "id": "5DxPPkqohFq2"
      },
      "source": [
        "## Bases and Domains\n",
        "\n",
        "In Dedalus, \"Domain objects\" represent physical domains which are created by combining bases ($x$, $y$, etc). We create bases in Dedalus by specifying a set of orthogonal basis functions, for example, sines and cosines (Fourier) or polynominals (Chebyshev). \n",
        "\n",
        "The choice of basis functions depends on the symmetry of the problem: for a problem that is periodic in the $x$-direction, for example, we choose sines and cosines (Fourier) for the $x$ basis functions. If the problem is _not_ periodic in the $y$ direction, polynomials (Chebyshev) are a better choice for the $y$ basis functions. \n",
        "\n",
        "To build a domain, we tell Dedalus the name of the basis, the number of gridpoints, and the interval. We then give Dedalus a list of the bases and specify the datatype. \n",
        "\n",
        "In this problem, the domain is a 2D channel that is periodic in the $x$ direction, but has non-trivial boundary conditions in the $y$ direction. So the natural basis functions are Fourier (sines and cosines) in $x$ and Chebyshev (polynomial) in $y$. "
      ]
    },
    {
      "cell_type": "code",
      "metadata": {
        "id": "0HLJE6wzhFq2"
      },
      "source": [
        "# Create bases and domain\n",
        "x_basis = de.Fourier('x', nx, interval=(0, Lx), dealias=3/2)\n",
        "y_basis = de.Chebyshev('y',ny, interval=(-Ly/2, Ly/2), dealias=3/2)\n",
        "domain = de.Domain([x_basis, y_basis], grid_dtype=np.float64)"
      ],
      "execution_count": null,
      "outputs": []
    },
    {
      "cell_type": "markdown",
      "metadata": {
        "id": "hsyvNEschFq3"
      },
      "source": [
        "## Initial value problem\n",
        "\n",
        "Now let's define our initial value problem and add the problem parameters and equations. We need to think a little bit about how to enter the equations so they are appropriate for Dedalus. Specifically, the LHS of the equations needs to be linear and first order in $y$. To do this, we introduce some new variables to deal with the $y$- derivatives of `u`, `v`, and `C`, namely, `uy`, `vy`, `Cy`.\n",
        "\n",
        "For example, the $x$-momentum equation is \n",
        "\n",
        "$$\n",
        "\\partial_t u + u \\, \\partial_x u + v \\, \\partial_y u + \\partial_x p = A \\, \\partial_x^2 u + A \\, \\partial_y^2 u. \n",
        "$$\n",
        "\n",
        "Because the domain is periodic in the $x$-direction, the $x$-basis functions are also periodic, for example $\\sin k x$ or $\\cos k x$.  Then, differentiation with respect to $x$ is very simple: it just gives a multiple of $k$ times a trig function. \n",
        "\n",
        "However, the domain is not periodic in the $y$-direction, so we need to make sure that the $x$-momentum equation involves at most first-order derivatives with respect to $y$. To do this, we introduce a new variable, $u_y$. This variable and $u$ are simply related\n",
        "\n",
        "$$\n",
        "u_y = \\partial_y \\, u. \n",
        "$$\n",
        "\n",
        "We can now write the $x$-momentum equation so that it only has first-order $y$-derivatives: \n",
        "\n",
        "$$\n",
        "\\partial_t u + u \\, \\partial_x u + v \\, u_y + \\partial_x p = A \\, \\partial_x^2 u + A \\, \\partial_y u_y. \n",
        "$$\n",
        "\n",
        "Finally, we need to rewrite the equation so that the linear terms are on the left-hand side and nonlinear terms are on the right-hand side: \n",
        "\n",
        "$$\n",
        "\\partial_t u + \\partial_x p - A \\, \\partial_x^2 u - A \\, \\partial_y u_y  =  - u \\, \\partial_x u - v \\, u_y.\n",
        "$$\n",
        "\n",
        "We also have the auxiliary equation, which is already linear and first order: \n",
        "$$\n",
        "u_y - \\partial_y \\, u = 0. \n",
        "$$\n",
        "\n",
        "In Dedalus, these is entered as \n",
        "\n",
        "```\n",
        "problem.add_equation(\"dt(u) + dx(p) - A*(dx(dx(u)) + dy(uy)) = - u*dx(u) - v*uy\")\n",
        "problem.add_equation(\"uy - dy(u) = 0\")\n",
        "```\n",
        "\n",
        "-----\n",
        "\n",
        "**Exercise**\n",
        "\n",
        "Rewrite the $y$-momentum equation, incompressibility condition, and passive tracer equation in a form suitable for Dedalus, then enter them below. The equations for `u` and `uy` have already been entered for you. As a reminder, the equations of motion are\n",
        "\n",
        "$$ \n",
        "\\partial_t u + \\boldsymbol{u}\\boldsymbol{\\cdot}\\boldsymbol{\\nabla} u + \\partial_x p = A \\nabla^2 u, \\qquad x-\\mbox{momentum equation}\n",
        "$$\n",
        "\n",
        "$$ \n",
        "\\partial_t v + \\boldsymbol{u}\\boldsymbol{\\cdot}\\boldsymbol{\\nabla} v + \\partial_y p = A \\nabla^2 v, \\qquad y-\\mbox{momentum equation} \n",
        "$$\n",
        "\n",
        "$$ \n",
        "\\boldsymbol{\\nabla}\\boldsymbol{\\cdot}\\boldsymbol{u} = 0. \\qquad \\mbox{incompressibility}\n",
        "$$\n",
        "\n",
        "$$ \\partial_t C + \\boldsymbol{u}\\boldsymbol{\\cdot}\\boldsymbol{\\nabla} C = A \\nabla^2 C \\qquad \\mbox{passive tracer advection}$$\n",
        "\n",
        "-----"
      ]
    },
    {
      "cell_type": "code",
      "metadata": {
        "id": "urohUyhohFq3"
      },
      "source": [
        "problem = de.IVP(domain, variables=['p','u','v','uy','vy','C','Cy'])\n",
        "\n",
        "problem.parameters['A'] = A\n",
        "\n",
        "problem.add_equation(\"dt(u) + dx(p) - A*(dx(dx(u)) + dy(uy)) = - u*dx(u) - v*uy\")\n",
        "problem.add_equation(\"uy - dy(u) = 0\")\n",
        "#problem.add_equation(\"...\")"
      ],
      "execution_count": null,
      "outputs": []
    },
    {
      "cell_type": "markdown",
      "metadata": {
        "id": "BA6Y2OXYiJR0"
      },
      "source": [
        "You can find the solution to this exercise at the end of this lab --- but you should try to do it yourself first! "
      ]
    },
    {
      "cell_type": "markdown",
      "metadata": {
        "id": "hIPOiNKrhFq3"
      },
      "source": [
        "## Boundary conditions. \n",
        "\n",
        "Next, we set our boundary conditions.  \"Left\" boundary conditions are applied at $y=-Ly/2$ and \"right\" boundary conditions are applied at $y=+Ly/2$."
      ]
    },
    {
      "cell_type": "code",
      "metadata": {
        "id": "LyH8kvhOhFq3"
      },
      "source": [
        "problem.add_bc(\"left(u) = 0.5\")\n",
        "problem.add_bc(\"right(u) = -0.5\")\n",
        "problem.add_bc(\"left(v) = 0\")\n",
        "problem.add_bc(\"right(v) = 0\", condition=\"(nx != 0)\")\n",
        "problem.add_bc(\"integ(p,'y') = 0\", condition=\"(nx == 0)\")\n",
        "problem.add_bc(\"left(Cy) = 0\")\n",
        "problem.add_bc(\"right(Cy) = 0\")"
      ],
      "execution_count": null,
      "outputs": []
    },
    {
      "cell_type": "markdown",
      "metadata": {
        "id": "FE_jzp_shFq4"
      },
      "source": [
        "We impose a *no-slip boundary condition* for the velocity, so $u$ and $v$ at the boundaries must match the velocity of the boundary itself. In our problem, the upper boundary is moving at speed $-0.5$ in the $x$-direction and the lower boundary is moving at speed $0.5$ in the $x$-direction, so the boundary conditions for $u$ and $v$ are\n",
        "\n",
        "$$\n",
        "\\left( u, v \\right) = \\left\\{ \\begin{array}{ccc} \\left( -0.5, 0 \\right) & \\mbox{at} & y = Ly/2 \\\\ \\left( 0.5, 0 \\right) & \\mbox{at} & y = -Lx/2 \\end {array} \\right.\n",
        "$$\n",
        "\n",
        "Note that we have a special boundary condition for the $k_x=0$ mode (singled out by `condition=\"(nx==0)\"`).  This is because the continuity equation implies $\\partial_y v=0$ if $k_x=0$; thus, $v=0$ on the top and bottom are redundant boundary conditions.  We replace one of these with a choice for the integral of the pressure.\n",
        "\n",
        "The boundary conditions for the passive tracer concentration are *no-flux* at the top or bottom: \n",
        "\n",
        "$$\n",
        "\\frac{\\partial C}{\\partial y} = \\left\\{ \\begin{array}{ccc} 0  & \\mbox{at} & y = Ly/2 \\\\ 0 & \\mbox{at} & y = -Lx/2 \\end {array} \\right.\n",
        "$$\n",
        "\n",
        "This ensures that none of the passive tracer escapes the domain. "
      ]
    },
    {
      "cell_type": "markdown",
      "metadata": {
        "id": "qfaMkEt5hFq4"
      },
      "source": [
        "## Solver\n",
        "\n",
        "Now we create the solver, specifying the timestepper that you want to use. We'll also specify how long to run the simulation. \n",
        "\n",
        "In this experiment we will not set the timestep in advance. Rather, we will let it *adapt* to flow so that the simulation needs a smaller timestep if the flow is evolving rapidly. This is achieved by using an option called `CFL`, which stands for the Courant-Friedrcihs-Lewy condition, which tells us how small we need to make the timestep in order for the simulation to converge. "
      ]
    },
    {
      "cell_type": "code",
      "metadata": {
        "id": "s0CCJq-ShFq5"
      },
      "source": [
        "solver =  problem.build_solver(de.timesteppers.RK443)\n",
        "\n",
        "solver.stop_sim_time = T\n",
        "solver.stop_wall_time = np.inf\n",
        "solver.stop_iteration = np.inf\n",
        "\n",
        "initial_dt = 0.2*Lx/nx\n",
        "cfl = flow_tools.CFL(solver,initial_dt,safety=0.8)\n",
        "cfl.add_velocities(('u','v'))"
      ],
      "execution_count": null,
      "outputs": []
    },
    {
      "cell_type": "markdown",
      "metadata": {
        "id": "gCKwDWpkhFq5"
      },
      "source": [
        "## Initial conditions\n",
        "\n",
        "Now we set our initial conditions, which we describe in more detail below. If you'd like to change the initial conditions, make sure that they match the boundary conditions that you imposed above --- or just modify the boundary conditions to match your new initial condition. Remember to rerun the entire notebook when you change the initial conditions. "
      ]
    },
    {
      "cell_type": "code",
      "metadata": {
        "id": "qUapLZ7ghFq5"
      },
      "source": [
        "# Domain and variables\n",
        "x = domain.grid(0)\n",
        "y = domain.grid(1)\n",
        "\n",
        "u  = solver.state['u']\n",
        "uy = solver.state['uy']\n",
        "v  = solver.state['v']\n",
        "vy = solver.state['vy']\n",
        "C  = solver.state['C']\n",
        "Cy = solver.state['Cy']\n",
        "\n",
        "# Initial condition: base state flow in x-direction \n",
        "a = 0.05\n",
        "flow = -0.5\n",
        "u['g'] = flow*np.tanh(y/a)\n",
        "\n",
        "# Initial condition: perturbation in y-direction\n",
        "sigma = 0.2\n",
        "amp = -0.2\n",
        "v['g'] = amp*np.sin(2.0*np.pi*x/Lx)*np.exp(-(y*y)/(sigma*sigma))\n",
        "\n",
        "# Initial condition: tracer field concentration used for visualization\n",
        "C['g'] = 0.5*(1-np.tanh(y/a))\n",
        "\n",
        "# Also calculate the initial value of uy, vy, Cy\n",
        "u.differentiate('y',out=uy)\n",
        "v.differentiate('y',out=vy)\n",
        "C.differentiate('y',out=Cy)"
      ],
      "execution_count": null,
      "outputs": []
    },
    {
      "cell_type": "markdown",
      "metadata": {
        "id": "yi-h4IAThFq6"
      },
      "source": [
        "For the velocity in the $x$-direction, we approximate the discontinuous step function $U(y)$ with a tanh function with narrow width,\n",
        "\n",
        "$$\n",
        "u = U_0 \\, \\tanh \\frac{y}{a}, \\qquad \\mbox{at} \\qquad t = 0,\n",
        "$$\n",
        "\n",
        "where $U_0 = -0.5$ is the initial flow speed and $a = 0.05$ is the width of the tanh function. To illustrate, we plot the profile of $u$ as a function of $y$ below. "
      ]
    },
    {
      "cell_type": "code",
      "metadata": {
        "id": "2kuqsRsIhFq6"
      },
      "source": [
        "# Plot the initial u-velocity\n",
        "X = domain.grid(0,scales=domain.dealias)\n",
        "Y = domain.grid(1,scales=domain.dealias)\n",
        "\n",
        "fig, ax = plt.subplots(figsize=(10,5))\n",
        "p = ax.scatter(Y,u['g'][0,:])\n",
        "ax.set_xlim([-Ly/2,Ly/2])\n",
        "ax.set(title='u-velocity (t = 0)')\n",
        "ax.set(xlabel='y')"
      ],
      "execution_count": null,
      "outputs": []
    },
    {
      "cell_type": "markdown",
      "metadata": {
        "id": "NBJCGdQOhFq6"
      },
      "source": [
        "For the initial velocity in the $y$-direction, we will use a very small initial sinusoidal perturbation centred at $y = 0$, \n",
        "\n",
        "$$\n",
        "v = V_0 \\, \\sin \\left( \\frac{2 \\pi x}{L_x} \\right) \\, \\mbox{e}^{-y^2/\\sigma^2} \\qquad \\mbox{at} \\qquad t = 0,\n",
        "$$\n",
        "\n",
        "where $V_0 = -0.2$ is the amplitude of the velocity perturbation and $\\sigma = 0.2$ is the width of the perturbation centred at $y = 0$. \n",
        "\n",
        "Below we plot the profile of $v$ as a function of $x$. Note that $v$ also depends upon $y$ (unlike the initial values for both $u$ and $C$). This is illustrated by plotting several cross-sections of $v$. "
      ]
    },
    {
      "cell_type": "code",
      "metadata": {
        "id": "uPragG3HhFq6"
      },
      "source": [
        "# Plot the initial v-velocity\n",
        "fig, ax = plt.subplots(figsize=(10,5))\n",
        "p = ax.scatter(X,v['g'][:,0],label='y=%4.2f' %Y[0,0])\n",
        "p = ax.scatter(X,v['g'][:,24],label='y=%4.2f' %Y[0,24])\n",
        "p = ax.scatter(X,v['g'][:,36],label='y=%4.2f' %Y[0,36])\n",
        "ax.set_xlim([0,Lx])\n",
        "ax.set(title='v-velocity (t = 0)')\n",
        "ax.set(xlabel='x')\n",
        "plt.legend(loc='lower left')"
      ],
      "execution_count": null,
      "outputs": []
    },
    {
      "cell_type": "markdown",
      "metadata": {
        "id": "5ZzY5sE9hFq7"
      },
      "source": [
        "For the initial passive tracer concentration, we again approximate the discontinuous step function with a tanh function with narrow width,\n",
        "\n",
        "$$\n",
        "C = 0.5 \\left( 1 - \\tanh \\frac{y}{a} \\right), \\qquad \\mbox{at} \\qquad t = 0.\n",
        "$$\n",
        "\n",
        "This function is $1$ in the lower half of the domain, $0$ in the upper half, and smoothly transitions between the two values over a width $a = 0.05$. "
      ]
    },
    {
      "cell_type": "code",
      "metadata": {
        "id": "oxkTxV0IhFq7"
      },
      "source": [
        "# Plot the initial tracer concentration\n",
        "fig, ax = plt.subplots(figsize=(10,5))\n",
        "p = ax.scatter(Y,C['g'][0,:])\n",
        "ax.set_xlim([-Ly/2,Ly/2])\n",
        "ax.set(title='Tracer concentration (t = 0)')\n",
        "ax.set(xlabel='y')"
      ],
      "execution_count": null,
      "outputs": []
    },
    {
      "cell_type": "markdown",
      "metadata": {
        "id": "KAf9EyQEhFq7"
      },
      "source": [
        "## Analysis\n",
        "\n",
        "Now we specify some model output to save:\n",
        "\n",
        "- $C$: the tracer concentration\n",
        "- $V = \\sqrt{u^2 + v^2}$: the speed of the flow (magnitude of the velocity)\n",
        "- $\\omega = \\partial_x v - \\partial_y u$: the vorticity\n",
        "\n",
        "We will also save some averaged quantities: \n",
        "\n",
        "- $\\frac{1}{Lx} \\int_{0}^{Lx} C \\, dx$: the horizontally averaged tracer concentration\n",
        "\n",
        "- $\\int \\int C \\, dx \\, dy$: the total amount of tracer  \n",
        "\n",
        "- $\\frac{1}{Lx} \\int_{0}^{Lx} u \\, dx$: the horizontally averaged velocity in the $x$-direction\n",
        "\n",
        "- $\\int \\int \\left( u^2 + v^2 \\right) \\, dx \\, dy$: the total kinetic energy"
      ]
    },
    {
      "cell_type": "code",
      "metadata": {
        "id": "0Ga4426YhFq8"
      },
      "source": [
        "# first remove any existing analysis folders\n",
        "analysis_dir = 'analysis'\n",
        "import os\n",
        "import shutil\n",
        "\n",
        "if os.path.exists(analysis_dir):\n",
        "    print(\"Overwriting existing analysis directory \" + analysis_dir)\n",
        "    shutil.rmtree(analysis_dir)\n",
        "\n",
        "# create analysis object and add tasks\n",
        "analysis = solver.evaluator.add_file_handler(analysis_dir, sim_dt=0.1, max_writes=100)\n",
        "analysis.add_task('C')\n",
        "analysis.add_task('sqrt(u*u+v*v)',name='V')\n",
        "analysis.add_task(\"dx(v)-dy(u)\",layout='g',name='omega')\n",
        "solver.evaluator.vars['Lx'] = Lx\n",
        "analysis.add_task(\"integ(C,'x')/Lx\", name='C_profile')\n",
        "analysis.add_task(\"integ((C))\", name='C_total')\n",
        "analysis.add_task(\"integ(u,'x')/Lx\", name='u_profile')\n",
        "analysis.add_task(\"integ((u*u+v*v))\", name='KE')"
      ],
      "execution_count": null,
      "outputs": []
    },
    {
      "cell_type": "markdown",
      "metadata": {
        "id": "K9VAhiR1hFq8"
      },
      "source": [
        "## Main Loop\n",
        "\n",
        "Now we run the simulation. We'll periodically plot the tracer concentration to the screen so you can watch the evolution of the flow. "
      ]
    },
    {
      "cell_type": "code",
      "metadata": {
        "id": "1xHzmKa8hFq8"
      },
      "source": [
        "# Make plot of scalar field\n",
        "xm, ym = np.meshgrid(X,Y)\n",
        "fig, axis = plt.subplots(figsize=(10,5))\n",
        "p = axis.pcolormesh(xm, ym, C['g'].T, cmap='Greys');\n",
        "axis.set_xlim([0,2.])\n",
        "axis.set_ylim([-0.5,0.5])\n",
        "\n",
        "import time\n",
        "\n",
        "logger.info('Starting loop')\n",
        "start_time = time.time()\n",
        "while solver.ok:\n",
        "    dt = cfl.compute_dt()\n",
        "    solver.step(dt)\n",
        "    if solver.iteration % 10 == 0:\n",
        "        # Update plot of scalar field\n",
        "        p.set_array(np.ravel(C['g'][:-1,:-1].T))\n",
        "        display.clear_output()\n",
        "        display.display(plt.gcf())\n",
        "        logger.info('Iteration: %i, Time: %e, dt: %e' %(solver.iteration, solver.sim_time, dt))\n",
        "\n",
        "end_time = time.time()\n",
        "\n",
        "p.set_array(np.ravel(C['g'][:-1,:-1].T))\n",
        "display.clear_output()\n",
        "# Print statistics\n",
        "logger.info('Run time: %f' %(end_time-start_time))\n",
        "logger.info('Iterations: %i' %solver.iteration)"
      ],
      "execution_count": null,
      "outputs": []
    },
    {
      "cell_type": "markdown",
      "metadata": {
        "id": "TZoT_L1EhFq8"
      },
      "source": [
        "# Analysis"
      ]
    },
    {
      "cell_type": "markdown",
      "metadata": {
        "id": "jzNvfuiOhFq8"
      },
      "source": [
        "## Read in the data\n",
        "\n",
        "Let's look at the output files we saved. First, we merge the analysis files together, then we read in the data. "
      ]
    },
    {
      "cell_type": "code",
      "metadata": {
        "id": "aiNtTePdhFq9"
      },
      "source": [
        "# Merge the analysis files\n",
        "\n",
        "import subprocess\n",
        "from dedalus.tools import post\n",
        "import pathlib\n",
        "post.merge_process_files(analysis_dir, cleanup=True)\n",
        "set_paths = list(pathlib.Path(analysis_dir).glob(\"analysis_s*.h5\"))\n",
        "post.merge_sets(analysis_dir + \"/analysis.h5\", set_paths, cleanup=True)"
      ],
      "execution_count": null,
      "outputs": []
    },
    {
      "cell_type": "code",
      "metadata": {
        "id": "SLeJRAJ9hFq-"
      },
      "source": [
        "# read the data\n",
        "import h5py\n",
        "\n",
        "f = h5py.File('analysis/analysis.h5','r')\n",
        "x = f['/scales/x/1.0'][:]\n",
        "y = f['/scales/y/1.0'][:]\n",
        "t = f['scales']['sim_time'][:]\n",
        "C = f['tasks']['C'][:]\n",
        "V = f['tasks']['V'][:]\n",
        "omega = f['tasks']['omega'][:]\n",
        "C_profile = f['tasks']['C_profile'][:]\n",
        "C_total = f['tasks']['C_total'][:]\n",
        "u_profile = f['tasks']['u_profile'][:]\n",
        "KE = f['tasks']['KE'][:]\n",
        "\n",
        "f.close()\n",
        "\n",
        "C_profile = C_profile[:,0,:]\n",
        "C_total = C_total[:,0,0]\n",
        "u_profile = u_profile[:,0,:]\n",
        "KE = KE[:,0,0]"
      ],
      "execution_count": null,
      "outputs": []
    },
    {
      "cell_type": "markdown",
      "metadata": {
        "id": "V9eycKtQhFq_"
      },
      "source": [
        "## Passive tracer\n",
        "\n",
        "### Movie\n",
        "\n",
        "Now we will look in more detail at the evolution of the passive tracer concentration. First we'll make a movie so that we can look more carefully at the output. We'll also smooth the data a bit (to make the plots look nicer) and stitch together several copies of the domain to emphasize the fact that the channel is periodic. \n",
        "\n",
        "As you watch the movie, notice that the initial small perturbation in the $y$-direction grows quickly with time. Think about what the flow is doing to the tracer concentration. What is happening to the distribution of tracer across the channel? Is the total amount of tracer increasing or decreasing? "
      ]
    },
    {
      "cell_type": "code",
      "metadata": {
        "id": "qtYkpsuxhFq_"
      },
      "source": [
        "# define function to create movie\n",
        "\n",
        "def save_movie(image_filenames,movie_filename,framerate):\n",
        "    os.system('ffmpeg -r ' + str(framerate) + ' -i ' + image_filenames + ' -vb 20M -vcodec mpeg4 -y ' + movie_filename)"
      ],
      "execution_count": null,
      "outputs": []
    },
    {
      "cell_type": "code",
      "metadata": {
        "id": "e8a0heVehFq_"
      },
      "source": [
        "# create a directory for plots\n",
        "plot_dir = \"plots\"\n",
        "if not os.path.exists(plot_dir):\n",
        "    os.makedirs(plot_dir)\n",
        "\n",
        "# stitch together three periodic cells\n",
        "XX,YY = np.meshgrid(np.concatenate((x-Lx,x,x+Lx)),y,indexing='ij')\n",
        "\n",
        "for i in range(len(t)): \n",
        "\n",
        "    CC = np.concatenate((C[i,:,:],C[i,:,:],C[i,:,:]))        \n",
        "    \n",
        "    # set max/min of colorbar using initial tracer concentration\n",
        "    if i == 0:\n",
        "        cmin = np.amin(CC)\n",
        "        cmax = np.amax(CC) \n",
        "        \n",
        "    fig = plt.figure(figsize=(18, 6))\n",
        "    ax  = plt.axes()\n",
        "    cax = ax.pcolormesh(XX,YY,CC,vmin=cmin,vmax=cmax,cmap='Greys',shading='gouraud')\n",
        "    ax.set(title='Tracer concentration: t = ' + str(round(t[i],4)))\n",
        "    cbar = fig.colorbar(cax)\n",
        "    \n",
        "    fig.savefig(plot_dir + '/tracer_{:0>3d}.png'.format(i),bbox_inches='tight')\n",
        "    plt.close()\n",
        "    if i%10 == 0: \n",
        "        print('Saved figure',i)\n",
        "        \n",
        "print('Saved snapshots')\n",
        "\n",
        "# make movie\n",
        "save_movie(plot_dir + \"/tracer_%03d.png\",\"tracer_movie.mp4\",10)\n",
        "print('Created movie')"
      ],
      "execution_count": null,
      "outputs": []
    },
    {
      "cell_type": "markdown",
      "metadata": {
        "id": "dvx_Cubdlkca"
      },
      "source": [
        "The following script should play the movie in your browser. If it doesn't play, you can click on the folder symbol to the left of the notebook. From here, you can simply download the movie and play it on your computer. "
      ]
    },
    {
      "cell_type": "code",
      "metadata": {
        "id": "XnZBLvbFln9B"
      },
      "source": [
        "# play movie\n",
        "from IPython.display import HTML\n",
        "from base64 import b64encode\n",
        "mp4 = open(\"tracer_movie.mp4\",'rb').read()\n",
        "data_url = \"data:video/mp4;base64,\" + b64encode(mp4).decode()\n",
        "HTML(\"\"\"\n",
        "<video width=800 controls>\n",
        "    <source src=\"%s\" type=\"video/mp4\">\n",
        "</video>\n",
        "\"\"\" % data_url)"
      ],
      "execution_count": null,
      "outputs": []
    },
    {
      "cell_type": "markdown",
      "metadata": {
        "id": "E0TJjOYihFq_"
      },
      "source": [
        "### Concentration profile\n",
        "\n",
        "Now let's look at one of the outputs we saved from the simulation: the horizontally averaged tracer concentration\n",
        "\n",
        "$$\n",
        "C_\\mbox{profile} (y) = \\frac{1}{Lx} \\int_{0}^{Lx} C \\, dx\n",
        "$$\n",
        "\n",
        "This tells us the profile of the tracer concentration across the channel, averaging over variations in the $x$ direction. \n",
        "\n",
        "Let's plot the evolution of the tracer profile as a series of curves, with the initial profile shown in blue and the final profile shown in yellow. \n",
        "\n",
        "Again, think about how this plot tells us what is happening to the tracer concentration. "
      ]
    },
    {
      "cell_type": "code",
      "metadata": {
        "id": "K_2nunCQhFrA"
      },
      "source": [
        "cmap = plt.get_cmap('viridis')\n",
        "\n",
        "colors = [cmap(i) for i in np.linspace(0,1,len(C_profile))]\n",
        "\n",
        "for i in range(len(C_profile)):\n",
        "    if i % 40 == 0:\n",
        "        plt.plot(C_profile[i,:],y,color=colors[i],label='t=%4.1f' %t[i])\n",
        "    else:\n",
        "        plt.plot(C_profile[i,:],y,color=colors[i])\n",
        "        \n",
        "plt.ylim([-0.5,0.5])\n",
        "plt.xlim([0,1])\n",
        "plt.title(r'Horizontally averaged tracer concentration')\n",
        "plt.xlabel(r'$\\int \\ C dx/L_x$',fontsize=16)\n",
        "plt.ylabel(r'$y$',fontsize=16)\n",
        "\n",
        "plt.legend(loc='lower left').draw_frame(False)"
      ],
      "execution_count": null,
      "outputs": []
    },
    {
      "cell_type": "markdown",
      "metadata": {
        "id": "zu_8Kj2uhFrA"
      },
      "source": [
        "### Total tracer concentration\n",
        "\n",
        "Finally, let's plot the total tracer concentration as a function of time. \n",
        "\n",
        "Recall that we imposed *no-flux boundary conditions* for the tracer concentration at the top and bottom boundaries, and *periodic boundary conditions* for the tracer concentration at the left and right boundaries. So no tracer is leaving the domain, the total amount of tracer remains constant. "
      ]
    },
    {
      "cell_type": "code",
      "metadata": {
        "id": "r1tm5HO8hFrA"
      },
      "source": [
        "# plot of total tracer concentration as a function of time. \n",
        "\n",
        "fig = plt.figure(figsize=(18, 6))\n",
        "ax  = plt.axes()\n",
        "cax = ax.plot(t,C_total)"
      ],
      "execution_count": null,
      "outputs": []
    },
    {
      "cell_type": "markdown",
      "metadata": {
        "id": "EWL0fffwhFrA"
      },
      "source": [
        "### Speed, vorticity and kinetic energy\n",
        "\n",
        "The passive tracer allows us to visualize the effect of the flow. But we can also look directly at the flow itself. We saved snapshots of the speed `V` and the vorticity `omega`. We also saved profiles of the velocity in the $x$-direction `u_profile` and the total kinetic energy `KE`. Adapt the python scripts we used for the tracer concentration to make a movies of the speed and vorticity, profiles of the $x$-velocity, and a time series of the kinetic energy. (You can use different colormaps for the plots of speed and vorticity, e.g. `viridis` for speed and `coolwarm` for vorticity. Remember that speed is non-negative, but vorticity can take either sign.)"
      ]
    },
    {
      "cell_type": "markdown",
      "metadata": {
        "id": "8cG6819nhFrB"
      },
      "source": [
        "-----------\n",
        "\n",
        "### Exercises\n",
        "\n",
        "- You have seen that the dissipation of the concentration field and the total energy is caused by the diffusion term in the momentum and passive tracer equations. Try changing the value of the diffusivity $A$. How does increasing or decreasing this value modify the flow?"
      ]
    },
    {
      "cell_type": "markdown",
      "metadata": {
        "id": "hZ3Zs9xchFrB"
      },
      "source": [
        "- Explore the dependence of the instability on the choice of initial perturbation $v$. What happens if the perturbation has no $y$ dependence, or no $x$ dependence? What happens if the amplitude of the perturbation is much smaller, or much larger? "
      ]
    },
    {
      "cell_type": "markdown",
      "metadata": {
        "id": "w1l80QYAhFrB"
      },
      "source": [
        "- Consider other initial velocity profiles, such as a Gaussian jet\n",
        "$$\n",
        "u(x,y,0) = U_0 \\, \\mbox{e}^{-y^2/a^2}, \n",
        "$$\n",
        "where $U_0$ is the strength of the jet and $a$ is the width of the jet. Remember that you will need to change the boundary conditions for $u$ at $y = -Ly/2$ and $y = Ly/2$ so that they match your new velocity profile. \n",
        "\n",
        "- How does this velocity profile evolve differently? Can you come up with a velocity profile that is stable to small perturbations? \n",
        "\n",
        "-----------"
      ]
    },
    {
      "cell_type": "markdown",
      "metadata": {
        "id": "WSy9-brNil_7"
      },
      "source": [
        "# Appendix 1: Exercise solutions"
      ]
    },
    {
      "cell_type": "markdown",
      "metadata": {
        "id": "011Vgp-siqey"
      },
      "source": [
        "### Equation entry in Dedalus\n",
        "\n",
        "```\n",
        "problem = de.IVP(domain, variables=['p','u','v','uy','vy','C','Cy'])\n",
        "\n",
        "problem.parameters['A'] = A\n",
        "\n",
        "problem.add_equation(\"dt(u) + dx(p) - A*(dx(dx(u)) + dy(uy)) = - u*dx(u) - v*uy\")\n",
        "problem.add_equation(\"uy - dy(u) = 0\")\n",
        "problem.add_equation(\"dt(v) + dy(p) - A*(dx(dx(u)) + dy(uy)) = - u*dx(v) - v*vy\")\n",
        "problem.add_equation(\"vy - dy(v) = 0\")\n",
        "problem.add_equation(\"dx(u) + vy = 0\")\n",
        "problem.add_equation(\"dt(C) - A*(dx(dx(C)) + dy(Cy)) = - u*dx(C) - v*Cy\")\n",
        "problem.add_equation(\"Cy - dy(C) = 0\")\n",
        "```"
      ]
    }
  ]
}
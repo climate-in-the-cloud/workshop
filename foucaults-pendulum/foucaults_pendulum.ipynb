{
  "nbformat": 4,
  "nbformat_minor": 0,
  "metadata": {
    "colab": {
      "name": "foucaults-pendulum.ipynb",
      "provenance": [],
      "collapsed_sections": [
        "baAQHuupKuPC"
      ],
      "toc_visible": true,
      "include_colab_link": true
    },
    "kernelspec": {
      "display_name": "Python 3",
      "language": "python",
      "name": "python3"
    },
    "language_info": {
      "codemirror_mode": {
        "name": "ipython",
        "version": 2
      },
      "file_extension": ".py",
      "mimetype": "text/x-python",
      "name": "python",
      "nbconvert_exporter": "python",
      "pygments_lexer": "ipython2",
      "version": "2.7.14"
    },
    "toc": {
      "base_numbering": 1,
      "nav_menu": {},
      "number_sections": true,
      "sideBar": true,
      "skip_h1_title": false,
      "title_cell": "Table of Contents",
      "title_sidebar": "Contents",
      "toc_cell": false,
      "toc_position": {},
      "toc_section_display": true,
      "toc_window_display": false
    },
    "varInspector": {
      "cols": {
        "lenName": 16,
        "lenType": 16,
        "lenVar": 40
      },
      "kernels_config": {
        "python": {
          "delete_cmd_postfix": "",
          "delete_cmd_prefix": "del ",
          "library": "var_list.py",
          "varRefreshCmd": "print(var_dic_list())"
        },
        "r": {
          "delete_cmd_postfix": ") ",
          "delete_cmd_prefix": "rm(",
          "library": "var_list.r",
          "varRefreshCmd": "cat(var_dic_list()) "
        }
      },
      "types_to_exclude": [
        "module",
        "function",
        "builtin_function_or_method",
        "instance",
        "_Feature"
      ],
      "window_display": false
    }
  },
  "cells": [
    {
      "cell_type": "markdown",
      "metadata": {
        "id": "view-in-github",
        "colab_type": "text"
      },
      "source": [
        "<a href=\"https://colab.research.google.com/github/climate-in-the-cloud/workshop/blob/master/foucaults-pendulum/foucaults_pendulum.ipynb\" target=\"_parent\"><img src=\"https://colab.research.google.com/assets/colab-badge.svg\" alt=\"Open In Colab\"/></a>"
      ]
    },
    {
      "cell_type": "markdown",
      "metadata": {
        "id": "baAQHuupKuPC"
      },
      "source": [
        "<img src=\"https://upload.wikimedia.org/wikipedia/commons/thumb/a/ae/Pendule_de_Foucault.jpg/800px-Pendule_de_Foucault.jpg\" align=\"center\"/>\n",
        "\n",
        "Foucault Pendulum - Source: Arnaud 25\\Wikimedia Commons\n",
        "\n",
        "# Lab 2: Foucault's pendulum\n",
        "\n",
        "In this lab, we will simulate a famous experiment by [Jean Leon Foucault](https://en.wikipedia.org/wiki/Foucault_pendulum) in 1851 to demonstrate the effect of Earth's rotation on a pendulum. \n",
        "\n",
        "We will also introduce some basic Python tools, such as plotting, animating, and data analysis.\n",
        "\n",
        "To use this notebook on your local machine, you will need Python3 installed.\n",
        "\n"
      ]
    },
    {
      "cell_type": "markdown",
      "metadata": {
        "id": "c97zI1mkXJFL"
      },
      "source": [
        "## Introducing Colab\r\n",
        "\r\n",
        "[Google Colaboratory](http://colab.research.google.com/) (or \"Colab\", for short) is a python notebook that you can run in a browser window. Colab notebooks are just like Jupyter notebooks, except that they are hosted on the cloud. This means that you do not need to have python installed on your local machine --- you can run it straight from a web browser. \r\n",
        "\r\n",
        "You will need a (free) [Google Account](https://myaccount.google.com/intro) to run the notebooks. If you would prefer not to sign up, you can still read the notebook, but you won't be able to run the code cells. \r\n",
        "\r\n",
        "Colab should look and feel very similar to a Jupyter notebook. One minor difference is that the keyboard shortcut to execute a code cell is **CMD/CTRL+ENTER**, while **SHIFT+ENTER** will move you to the next cell. You can also click the play button to the left of each cell. \r\n",
        "\r\n",
        "Watch [Introduction to Colab](https://www.youtube.com/watch?v=inN8seMm7UI)  to learn more, or check out this [Overview of Colab Features](https://colab.research.google.com/notebooks/basic_features_overview.ipynb). "
      ]
    },
    {
      "cell_type": "markdown",
      "metadata": {
        "id": "Kbxq3a8fmfE8"
      },
      "source": [
        "##Colab and Google Drive\r\n",
        "\r\n",
        "Colab integrates with Google Drive, so you can save your notebook, figures, and movies to your own Drive if you would like. This is not required to run the lab, because figures and movies will be saved to the Colab virtual machine and displayed in your browser. \r\n",
        "\r\n",
        "If you would like to save your notebook, copy and paste the following code snippet to mount your Google Drive in Colab. The command will send you to a new browser window (make sure you allow pop-ups) to give permission for Colab to access your Drive. You can then locate your Google Drive by navigating to `drive/'My Drive'`: \r\n",
        "\r\n",
        "```\r\n",
        "from google.colab import drive\r\n",
        "drive.mount('/content/drive')\r\n",
        "!ls drive/'My Drive'\r\n",
        "```\r\n",
        "\r\n",
        "You can also save your notebook to Google Drive, or download a copy of the notebook file, using the **File Menu** in the top left corner. "
      ]
    },
    {
      "cell_type": "code",
      "metadata": {
        "id": "kyFKgaClmcwa"
      },
      "source": [
        "# Try it yourself!\r\n",
        "from google.colab import drive\r\n",
        "drive.mount('/content/drive')\r\n",
        "!ls drive/'My Drive'"
      ],
      "execution_count": null,
      "outputs": []
    },
    {
      "cell_type": "markdown",
      "metadata": {
        "id": "icHKIFzwTqhG"
      },
      "source": [
        "# An introduction to Python"
      ]
    },
    {
      "cell_type": "markdown",
      "metadata": {
        "id": "gTGNBWiKmp0E"
      },
      "source": [
        "In this course, we will use [Python](https://www.python.org/) to run fluid dynamics simulations, analyze output, and plot figures and movies. Python is free, flexible, easy to use, and has tons of online resources for beginners. If you have a question about Python, my default answer will be \"have you Googled it?\"\r\n",
        "\r\n",
        "You do not need to be fluent in Python or any other programming language for this course. We will run Python from within these notebooks, and you will get lots of guidance. You are also encouraged to complete this [free online tutorial](https://www.codecademy.com/learn/learn-python) to familiarise yourself with Python syntax."
      ]
    },
    {
      "cell_type": "markdown",
      "metadata": {
        "id": "_GoRTMa1mqDN"
      },
      "source": [
        "### Jupyter notebook\r\n",
        "\r\n",
        "We will run the python labs in [Jupyter notebook](http://jupyter.org/). Jupyter notebook is an interective, web-based, computational environment. Within a notebook you can display text, mathematical notation, images, etc, using [Markdown](https://www.markdownguide.org/). For example:\r\n",
        "\r\n",
        "#### World's most awesome equations: \r\n",
        "\r\n",
        "- Newton's second law: $F = m \\dot{v}$. \r\n",
        "- Euler's equation: $e^{\\mathrm{i} \\pi} + 1 = 0$. \r\n",
        "- Wave equation (\"_gnarly dude!_\"): \r\n",
        "$$\r\n",
        "\\frac{\\partial^2 f}{\\partial t^2} = c^2 \\frac{\\partial^2 f}{\\partial x^2}.\r\n",
        "$$"
      ]
    },
    {
      "cell_type": "markdown",
      "metadata": {
        "id": "4RmwgWVJmqOS"
      },
      "source": [
        "Jupyter notebook also allows you to use \"cells\" of python code that be executed in real time. \r\n",
        "\r\n",
        "To see this in action, move down to the next cell and enter the following python code: \r\n",
        "\r\n",
        "```\r\n",
        "string = \"Hello world!\"\r\n",
        "print(string)\r\n",
        "```\r\n",
        "\r\n",
        "When you are finished, press **SHIFT + ENTER** to run the cell (or click **Run** in the menu above). "
      ]
    },
    {
      "cell_type": "code",
      "metadata": {
        "id": "Krc51DDmm1-t"
      },
      "source": [
        "# This is a comment reminding you to enter your python code below. Don't forget to press shift + enter to run!"
      ],
      "execution_count": null,
      "outputs": []
    },
    {
      "cell_type": "markdown",
      "metadata": {
        "id": "YXbomJRnm1Ni"
      },
      "source": [
        "Congratulations! You are now a pythonista. Variables carry over from cell to cell, so you can build complex scripts by sequentially running cells one after another. \r\n",
        "\r\n",
        "Now create a new cell by clicking on the \"+\" button in the menu above. Make sure that the cell type is \"Code\" in the drop down menu. Navigate to the new cell and enter the following python code: \r\n",
        "\r\n",
        "```\r\n",
        "longer_string = string + \" spam! Spam! SPAM!\"\r\n",
        "print(longer_string)\r\n",
        "```\r\n",
        "\r\n",
        "Don't forget to **SHIFT + ENTER** to run the cell. "
      ]
    },
    {
      "cell_type": "markdown",
      "metadata": {
        "id": "_LX0w3jZm5iN"
      },
      "source": [
        "\r\n",
        "## Libraries\r\n",
        "\r\n",
        "Python makes extensive use of freely available, open source *libraries*, which contain tonnes of useful functions etc that you can make use of. The following python code calls two standard libraries: `numpy` (pronounced \"numb pie\"), which contains useful functions for carrying out numerics, and `matplotlib`, which allows us to plot data.\r\n",
        "\r\n",
        "Since we will be using these libraries repeatedly, we will abbreviate their names to `np` and `plt`, respectively.\r\n",
        "\r\n",
        "Finally, the last line instructs `matplotlib` to plot figures in the Jupyter notebook, just below the cell that calls it. That way, you will be able to view and save figures within the notebook. \r\n",
        "\r\n",
        "**Move to the next cell by pressing DOWN, then press SHIFT + ENTER to run (or click \"Run\" in the menu above)**"
      ]
    },
    {
      "cell_type": "code",
      "metadata": {
        "id": "FvIs4ClynDqv"
      },
      "source": [
        "# Numerics\r\n",
        "import numpy as np\r\n",
        "\r\n",
        "# Plotting\r\n",
        "import matplotlib.pyplot as plt\r\n",
        "from mpl_toolkits.mplot3d import Axes3D\r\n",
        "from matplotlib import cm\r\n",
        "\r\n",
        "# plot figures in Jupyter notebook\r\n",
        "%matplotlib inline"
      ],
      "execution_count": 2,
      "outputs": []
    },
    {
      "cell_type": "markdown",
      "metadata": {
        "id": "IEx75hHHnFBm"
      },
      "source": [
        "## Variables, arrays, and indexing\r\n",
        "\r\n",
        "The first thing we need to do is define a numerical grid. We will do this using the `numpy` functions `linspace` and `meshgrid`. Thus, when we call them, we will use the alias we defined for this library, `np`, followed by a period `.` followed by the particular function we want from the library, e.g. `np.linspace`.\r\n",
        "\r\n",
        "First, we create a vector `xv` of `2n+1` equally spaced gridpoints between $x = -1$ and $x = 1$. Again, press **shift + enter** to run the following cell. "
      ]
    },
    {
      "cell_type": "code",
      "metadata": {
        "id": "bhXtzyZinLkm"
      },
      "source": [
        "# Grid\r\n",
        "n = 50\r\n",
        "xv = np.linspace(-1,1,2*n+1)\r\n",
        "\r\n",
        "print(xv.shape)\r\n",
        "print(xv[0:10])\r\n",
        "print(xv[-10:])"
      ],
      "execution_count": null,
      "outputs": []
    },
    {
      "cell_type": "markdown",
      "metadata": {
        "id": "XjjrNImEnL_m"
      },
      "source": [
        "The command `print(xv.shape)` prints the dimensions of the array `xv`. In this case, it is a 1D array with `2n+1` elements, so the dimensions are $(2n+1,)$. Notice that the second dimension is simply blank, rather than `1`. \r\n",
        "\r\n",
        "The commands `print(xv[0:10])` and `print(xv[-10:])` print the first and last ten elements of the array. Indexing in python is indicated using square brackets `[...]` and is referenced to the first element (for positive indices) or the last element (for negative indices). Thus, `xv[0:10]` can be read as: \"first + 0 elements to first + 10 elements\", and `xv[-10:]` can be read as: \"last - 10 elements to last element\". \r\n",
        "\r\n",
        "Next we will define 2D arrays `xx` and `yy` using the function `meshgrid`. "
      ]
    },
    {
      "cell_type": "code",
      "metadata": {
        "id": "bqxzoVa8nMF9"
      },
      "source": [
        "xx,yy = np.meshgrid(xv,xv,indexing='ij')\r\n",
        "\r\n",
        "print(xx.shape)\r\n",
        "print(yy.shape)\r\n",
        "\r\n",
        "print(xx[0:10,0:10])\r\n",
        "print(yy[0:10,0:10])"
      ],
      "execution_count": null,
      "outputs": []
    },
    {
      "cell_type": "markdown",
      "metadata": {
        "id": "OwXiF-0DnQB7"
      },
      "source": [
        "The array `xx` is an $2n+1 \\times 2n+1$ matrix in which each row is the corresponding value of `xv`. Likewise, the array `yy` is an $2n+1 \\times 2n+1$ matrix with each column having the corresponding value of `xv`. \r\n",
        "\r\n",
        "Let's try plotting a simple function of x and y using the arrays `xx` and `yy`. The function we will use is \r\n",
        "\r\n",
        "$$\r\n",
        "f = \\sin  (\\pi x) \r\n",
        "$$\r\n",
        "\r\n",
        "Both the sine function and the constant pi are part of the `numpy` library, so we call the using `np.sin` and `np.pi`, respectively. "
      ]
    },
    {
      "cell_type": "code",
      "metadata": {
        "id": "soNH15gqnRGT"
      },
      "source": [
        "# define function\r\n",
        "f = np.sin(np.pi*xx)*np.cos(np.pi*yy)"
      ],
      "execution_count": 5,
      "outputs": []
    },
    {
      "cell_type": "markdown",
      "metadata": {
        "id": "5vOxdhkUnROs"
      },
      "source": [
        "We will make a 2D colorplot of this function using `plt.pcolormesh`, a 1D plot of a slice of the function using `plt.plot`, as well as a 3D surface plot of the function using `plot_surface` with the `Axes3D` module. We will also use some other functions from `matplotlib` to control the appearance of the figure, such as `subplot`, `title`, `xlabel`, etc. "
      ]
    },
    {
      "cell_type": "markdown",
      "metadata": {
        "id": "PDBDmmO7nX5U"
      },
      "source": [
        "--------------\r\n",
        "\r\n",
        "### Now try it yourself\r\n",
        "\r\n",
        "- Modify the function `f` above so that it is $f = \\cos (\\pi y)$ and plot a 2D colormap of the function. To do this, you will need to run (**shift + enter**) both cells: the cell that defines `f` and the cell that plots `f`. \r\n",
        "\r\n",
        "- How should you change the 1D plot so that it shows a slice along $x = 0$ instead of $y = 0$? \r\n",
        "\r\n",
        "- Try plotting a more complication function like $f = \\sin (\\pi x) \\cos (\\pi y$). \r\n",
        "\r\n",
        "------------------"
      ]
    },
    {
      "cell_type": "code",
      "metadata": {
        "id": "lBM9GDllnYCT"
      },
      "source": [
        "# plot 2D colorplot\r\n",
        "plt.subplot(1,2,1)\r\n",
        "plt.pcolormesh(xx, yy, f)\r\n",
        "plt.title('f(x,y)')\r\n",
        "plt.xlabel('x')\r\n",
        "plt.ylabel('y')\r\n",
        "plt.axis('square')\r\n",
        "\r\n",
        "# plot 1D slice along y = 0\r\n",
        "plt.subplot(1,2,2)\r\n",
        "plt.plot(xv,f[:,n])\r\n",
        "plt.title('f(x,0)')\r\n",
        "plt.xlabel('x')\r\n",
        "plt.axis('square')\r\n",
        "plt.ylim(-1.1,1.1)\r\n",
        "\r\n",
        "# plot 3D colorplot ## Add exercise to subsample + show how to do ::x stepping\r\n",
        "fig = plt.figure()\r\n",
        "ax = fig.gca(projection='3d')\r\n",
        "ax.plot_surface(xx, yy, f, cmap = cm.viridis)\r\n",
        "plt.title('f(x,y)')\r\n",
        "plt.xlabel('x')\r\n",
        "plt.ylabel('y')"
      ],
      "execution_count": null,
      "outputs": []
    },
    {
      "cell_type": "markdown",
      "metadata": {
        "id": "4sBG0iaSB_Vo"
      },
      "source": [
        "# Background\r\n",
        "Foucault realised that, independent of any rotation of the suspension point, a pendulum will tend to maintain its plane of motion. If a rotation is observed, it must be due to his surrounding rotation (that is, the earth).\r\n",
        "\r\n",
        "## Forces in the rotating frame\r\n",
        "\r\n",
        "Assume that the pendulum is in a frame rotating about the $z$-axis with angular velocity $\\Omega$. In this frame, the forces acting on the pendulum are\r\n",
        "\r\n",
        "- the weight of the pendulum acting downward\r\n",
        "- the tension of the string\r\n",
        "- the centifugal force\r\n",
        "- the Coriolis force"
      ]
    },
    {
      "cell_type": "markdown",
      "metadata": {
        "id": "-LR57q7yKuPD"
      },
      "source": [
        "In order to simplify the calculations, we will assume that the pendulum is suspended from a very long wire and that the angle it swings through is relatively small. This means that we can effectively neglect the vertical velocity of the pendulum and assume that motion is in the *x-y* plane. \n",
        "\n",
        "This gives us a force balance in the vertical direction\n",
        "\n",
        "$$\n",
        "T \\; \\cos \\theta - Mg \\approx 0.\n",
        "$$\n",
        "\n",
        "For small angles $\\theta$ we can approximate $\\cos \\theta \\approx 1$ and so\n",
        "\n",
        "$$\n",
        "T \\approx M g\n",
        "$$"
      ]
    },
    {
      "cell_type": "markdown",
      "metadata": {
        "id": "tSFTRg90KuPE"
      },
      "source": [
        "In the $x$-$y$ plane, the centrifugal force is directed radially outward from the axis of rotation, while the tension force acts radially inwards. We can therefore combine these forces into a single restoring force that is directed towards the axis of rotation,\n",
        "\n",
        "$$\n",
        "\\mathbf{F}_R = \\left( T \\; \\sin \\theta - M \\; \\Omega^2 \\; r \\right) \\; \\mathbf{\\hat{r}}\n",
        "$$\n",
        "\n",
        "where $r$ is the horizontal distance from the axis of rotation and $\\mathbf{\\hat{r}}$ is the unit vector directed outwards from the rotation axis.\n",
        "\n",
        "Making use of $T = M g$ and using $\\sin \\theta = r / L$ (where $L$ is the length of the wire) we find\n",
        "\n",
        "$$\n",
        "\\mathbf{F}_R = \\left( M \\; g \\; \\frac{r}{L} - \\Omega^2 \\; r \\right) \\; \\mathbf{\\hat{r}} = M \\; \\frac{g_\\mathrm{eff}}{L} \\; \\mathbf{r}\n",
        "$$\n",
        "\n",
        "where $g_\\mathrm{eff} = g - \\Omega^2 \\; L$ is the effective gravtiational acceleration, taking into account both gravity and the Centrifugal force. Notice here that we are assuming that $g > \\Omega^2 \\; L$ so that the effective gravitational acceleration is positive and $\\mathbf{F}_R$ is directed inwards. "
      ]
    },
    {
      "cell_type": "markdown",
      "metadata": {
        "id": "3vumm0h7KuPF"
      },
      "source": [
        "Finally, the Coriolis force is given by \n",
        "\n",
        "$$\n",
        "\\mathbf{F}_\\mathrm{Cor} = - 2 \\; M \\; \\mathbf{\\Omega \\times v} = 2 \\; M \\; \\Omega \\; v \\; \\mathbf{\\hat{x}} - 2 \\; M \\; \\Omega \\; u \\; \\mathbf{\\hat{y}}.\n",
        "$$\n",
        "\n",
        "where we have used $\\mathbf{\\Omega} = \\Omega \\; \\mathbf{\\hat{z}}$. \n",
        "\n",
        "The equations of motion in the $x$ and $y$ directions (dividing by the mass of the pendulum) are then\n",
        "\n",
        "$$\n",
        "\\begin{align}\n",
        "\\frac{d u}{dt} & = - \\frac{g_\\mathrm{eff}}{L} \\; x + 2 \\; \\Omega \\; v, \\\\\n",
        "\\frac{d v}{dt} & = - \\frac{g_\\mathrm{eff}}{L} \\; y - 2 \\; \\Omega \\; u, \n",
        "\\end{align}\n",
        "$$"
      ]
    },
    {
      "cell_type": "markdown",
      "metadata": {
        "id": "2VBtqACzKuPF"
      },
      "source": [
        "## Complex-valued solution\n",
        "\n",
        "These equations can be combined into a single complex-valued equation by introducing \n",
        "\n",
        "$$\n",
        "z = x + \\mbox{i} \\; y, \\qquad \\dot{z} = u + \\mbox{i} \\; v, \\qquad \\ddot{z} = \\dot{u} + \\mbox{i} \\; \\dot{v},\n",
        "$$\n",
        "\n",
        "which gives a second-order ODE\n",
        "\n",
        "$$\n",
        "\\ddot{z} = - \\frac{g_\\mathrm{eff}}{L} z - 2 \\; i \\; \\Omega \\; \\dot z\n",
        "$$\n",
        "\n",
        "We simplify this equation by rescaling time so that it is measured in units of $\\Omega^{-1}$ and introducing $\\omega_0 = \\sqrt{g_\\mathrm{eff} / \\Omega^2 L}$ to be the natural (non-dimensional) frequency of the system,\n",
        "\n",
        "$$\n",
        "\\ddot{z} + 2 \\; i \\; \\dot{z} + \\omega_0^2 \\; z = 0.\n",
        "$$"
      ]
    },
    {
      "cell_type": "markdown",
      "metadata": {
        "id": "EDI5wQG0KuPG"
      },
      "source": [
        "We look for solutions of the form $z \\approx e^{i \\lambda t}$, which gives the characteristic equation\n",
        "\n",
        "$$\n",
        "\\lambda^2 + 2 \\; \\lambda - \\omega_0^2 = 0\n",
        "$$\n",
        "\n",
        "with solutions\n",
        "\n",
        "$$\n",
        "\\lambda = - 1 \\pm \\sqrt{1 + \\omega_0^2}\n",
        "$$\n",
        "\n",
        "Thus, the solution to the ODE is \n",
        "\n",
        "$$\n",
        "z = \\left( A \\; e^{i \\omega_1 t} + B \\; e^{- i \\omega_1 t}\\right) \\; e^{-i t},\n",
        "$$\n",
        "\n",
        "where $\\omega_1 = \\sqrt{1 + \\omega_0^2}$. We recognise the term in brackets as being simple circular motion with frequency $\\omega_1$ or $-\\omega_1$ corresponding to anticlockwise rotation or clockwise rotation, respectively. This is multiplied by $e^{-i t}$, which represents the rotation of the frame itself. Since we have rescaled time by $\\Omega^{-1}$, the angular frequency of the rotating frame is simply $1$. "
      ]
    },
    {
      "cell_type": "markdown",
      "metadata": {
        "id": "_hB14KAMKuPH"
      },
      "source": [
        "Finally, we can write out the solutions in Cartesian coordinates\n",
        "\n",
        "$$\n",
        "\\begin{align} \n",
        "x(t) & = \\text{Real}(z) = A \\; \\cos \\; \\left( \\omega_1 - 1 \\right) t + B \\; \\cos \\; \\left( \\omega_1 + 1 \\right) t,\\\\\n",
        "y(t) & = \\text{Imag}(z) = A \\; \\sin \\; \\left( \\omega_1 - 1 \\right) t - B \\; \\sin \\; \\left( \\omega_1 + 1 \\right) t.\n",
        "\\end{align}\n",
        "$$\n",
        "\n"
      ]
    },
    {
      "cell_type": "markdown",
      "metadata": {
        "id": "MErjXyWLoTsu"
      },
      "source": [
        "# Experiment\r\n",
        "Now we are ready to perform our experiment using python. First we must import some libraries and packages to perform our numerics and plot the resulting data."
      ]
    },
    {
      "cell_type": "markdown",
      "metadata": {
        "id": "XhohawUbTxzt"
      },
      "source": [
        "## Libraries"
      ]
    },
    {
      "cell_type": "code",
      "metadata": {
        "id": "84ABdrkwKuPI"
      },
      "source": [
        "# Numerics\n",
        "import numpy as np\n",
        "\n",
        "# Plotting\n",
        "import matplotlib.pyplot as plt\n",
        "from matplotlib import animation\n",
        "from matplotlib import rc\n",
        "rc('animation', html='jshtml')\n",
        "\n",
        "# Interactivity\n",
        "from ipywidgets import interact, interactive\n",
        "from IPython.display import clear_output, display, HTML\n",
        "\n",
        "# Plot figures in Jupyter notebook\n",
        "%matplotlib inline"
      ],
      "execution_count": 7,
      "outputs": []
    },
    {
      "cell_type": "markdown",
      "metadata": {
        "id": "-kcxuTJYVpwk"
      },
      "source": [
        "## Solving $z$ in a fixed frame\r\n",
        "First we will write a function that will solve for $z$ in a fixed frame for a range of times.\r\n",
        "\r\n",
        "$dt$ is the time step size, $nt$ is the total number of iterations, and $T$ is our integration time, which will be 20 times the natural period of our pendulum $\\omega$.\r\n",
        "\r\n",
        "We will be using an interactive plotting tool to visualise our result in a fixed frame. You can change the value of $\\omega$, as well as the total number of iterations $nt$."
      ]
    },
    {
      "cell_type": "code",
      "metadata": {
        "id": "pKvraiOmWENN"
      },
      "source": [
        "# Constants\n",
        "w0 = 10                     # natural frequency of the pendulum (non-dimensional)\n",
        "A = 1\n",
        "B = 1\n",
        "\n",
        "# A function to animate solve z in both a fixed and rotating frame\n",
        "def solve_z_fixed(w, numtimes): \n",
        "  dt = 1                      # time step\n",
        "  nt = numtimes               # iterations\n",
        "  T = 40*np.pi/w              # integration time = 20 * natural period of pendulum  \n",
        "\n",
        "  # Rotation in clockwise and anti-clockwise direction\n",
        "  a1 = -1 - np.sqrt(1 + w**2)\n",
        "  a2 = -1 + np.sqrt(1 + w**2)\n",
        "\n",
        "  t = np.linspace(0,T,nt*dt)  # time axis\n",
        "  fig = plt.figure(figsize=(7,7))\n",
        "  ax = fig.add_axes([0,0,1,1])\n",
        "  ax.axis('on')\n",
        "\n",
        "  # Solution in fixed frame\n",
        "  z = np.exp(1j*w*t) + np.exp(-1j*w*t) \n",
        "  a = 2*np.exp(1j*t)                     # release position in the  fixed frame\n",
        "  ax.scatter(a[int(numtimes)-1].real,a[int(numtimes)-1].imag, s=20, c='k', label='Release position')\n",
        "  title='Fixed Frame'\n",
        "\n",
        "  ax.plot(z[:int(numtimes)].real,z[:int(numtimes)].imag, label='Trajectory')\n",
        "  ax.scatter(z[int(numtimes)-1].real,z[int(numtimes)-1].imag, zorder=10, c='r', s=20, label='Final position')\n",
        "  ax.legend(loc='upper right')\n",
        "  ax.set(aspect=1,xlabel='$x$',ylabel='$y$',xlim=[-2,2],ylim=[-2,2],title=title)\n",
        "\n",
        "  plt.show()\n"
      ],
      "execution_count": 82,
      "outputs": []
    },
    {
      "cell_type": "code",
      "metadata": {
        "id": "wok1AM4aq-zS"
      },
      "source": [
        "# Display the solution for z in a fixed frame\r\n",
        "w = interactive(solve_z_fixed, w=(10.0), numtimes=(0,5000))\r\n",
        "display(w)"
      ],
      "execution_count": null,
      "outputs": []
    },
    {
      "cell_type": "markdown",
      "metadata": {
        "id": "cPoj99Ourg6l"
      },
      "source": [
        "## Solving $z$ in a rotating frame\r\n",
        "Now we will solve z in a rotating frame"
      ]
    },
    {
      "cell_type": "code",
      "metadata": {
        "id": "6fdAxONfrACU"
      },
      "source": [
        "# A function to animate solve z in both a fixed and rotating frame\r\n",
        "def solve_z_rotating(w, numtimes): \r\n",
        "  dt = 1                      # time step\r\n",
        "  nt = numtimes               # iterations\r\n",
        "  T = 40*np.pi/w              # integration time = 20 * natural period of pendulum  \r\n",
        "\r\n",
        "  # Rotation in clockwise and anti-clockwise direction\r\n",
        "  a1 = -1 - np.sqrt(1 + w**2)\r\n",
        "  a2 = -1 + np.sqrt(1 + w**2)\r\n",
        "\r\n",
        "  t = np.linspace(0,T,nt*dt)  # time axis\r\n",
        "  fig = plt.figure(figsize=(7,7))\r\n",
        "  ax = fig.add_axes([0,0,1,1])\r\n",
        "  ax.axis('on')\r\n",
        "\r\n",
        "  # Solution in rotating frame\r\n",
        "  z = np.exp(1j*a1*t) + np.exp(1j*a2*t)\r\n",
        "  a = 2      # release position in the rotating frame\r\n",
        "  ax.scatter(a.real,a.imag, label='Release position', c='k', s=20)\r\n",
        "  title='Rotating Frame'\r\n",
        "\r\n",
        "  ax.plot(z[:int(numtimes)].real,z[:int(numtimes)].imag, label='Trajectory')\r\n",
        "  ax.scatter(z[int(numtimes)-1].real,z[int(numtimes)-1].imag, zorder=10, c='r', s=20, label='Final position')\r\n",
        "  ax.legend(loc='upper right')\r\n",
        "  ax.set(aspect=1,xlabel='$x$',ylabel='$y$',xlim=[-2,2],ylim=[-2,2],title=title)\r\n",
        "\r\n",
        "  plt.show()\r\n"
      ],
      "execution_count": 22,
      "outputs": []
    },
    {
      "cell_type": "code",
      "metadata": {
        "id": "__jtzJNJWb3v"
      },
      "source": [
        "# Display the solution for z in a fixed frame\n",
        "w = interactive(solve_z_rotating, w=(10.0), numtimes=(0,10000))\n",
        "display(w)"
      ],
      "execution_count": null,
      "outputs": []
    },
    {
      "cell_type": "markdown",
      "metadata": {
        "id": "tVg_W-O7twOl"
      },
      "source": [
        "## Comparing $z$ in fixed and rotating frames\r\n",
        "We can simply write a function that takes 'rotation' as an input, to easily compare the fixed and rotating frames by clicking a little tickbox!"
      ]
    },
    {
      "cell_type": "code",
      "metadata": {
        "id": "sLgTxQ43rUF2"
      },
      "source": [
        "# A function to animate solve z in both a fixed and rotating frame\r\n",
        "def solve_z(w, numtimes, rotation=True): \r\n",
        "  dt = 1                      # time step\r\n",
        "  nt = numtimes               # iterations\r\n",
        "  T = 40*np.pi/w              # integration time = 20 * natural period of pendulum  \r\n",
        "\r\n",
        "  # Rotation in clockwise and anti-clockwise direction\r\n",
        "  a1 = -1 - np.sqrt(1 + w**2)\r\n",
        "  a2 = -1 + np.sqrt(1 + w**2)\r\n",
        "\r\n",
        "  t = np.linspace(0,T,nt*dt)  # time axis\r\n",
        "  fig = plt.figure(figsize=(7,7))\r\n",
        "  ax = fig.add_axes([0,0,1,1])\r\n",
        "  ax.axis('on')\r\n",
        "\r\n",
        "  # Solution in rotating frame\r\n",
        "  if rotation==True:\r\n",
        "    z = np.exp(1j*a1*t) + np.exp(1j*a2*t)\r\n",
        "    a = 2                                  # release position in the rotating frame\r\n",
        "    ax.scatter(a.real,a.imag, c='k', label='Release position')\r\n",
        "    title='Rotating Frame'\r\n",
        "  # Solution in fixed frame\r\n",
        "  else:\r\n",
        "    z = np.exp(1j*w*t) + np.exp(-1j*w*t) \r\n",
        "    a = 2*np.exp(1j*t)                     # release position in the  fixed frame\r\n",
        "    ax.scatter(a[int(numtimes)-1].real,a[int(numtimes)-1].imag, zorder=10, c='k', label='Release position')\r\n",
        "    title='Fixed Frame'\r\n",
        "\r\n",
        "  ax.plot(z[:int(numtimes)].real,z[:int(numtimes)].imag, label='Trajectory')\r\n",
        "  ax.scatter(z[int(numtimes)-1].real,z[int(numtimes)-1].imag, zorder=10, c='r', label='Final position')\r\n",
        "  ax.legend(loc='upper right')\r\n",
        "  ax.set(aspect=1,xlabel='$x$',ylabel='$y$',xlim=[-2,2],ylim=[-2,2],title=title)\r\n",
        "\r\n",
        "  plt.show()\r\n"
      ],
      "execution_count": 26,
      "outputs": []
    },
    {
      "cell_type": "code",
      "metadata": {
        "id": "rLoysvI7rUIa"
      },
      "source": [
        "w = interactive(solve_z, w=(10.0), numtimes=(0,10000), rotation=True)\r\n",
        "display(w)"
      ],
      "execution_count": null,
      "outputs": []
    },
    {
      "cell_type": "markdown",
      "metadata": {
        "id": "jsjFV1O3VSOw"
      },
      "source": [
        "##Comparing $z$ in fixed and rotating frames side-by-side\r\n",
        "We can also use the matplotlib subplots feature in order to plot the fixed and rotating frames side-by-side."
      ]
    },
    {
      "cell_type": "code",
      "metadata": {
        "id": "reX6zYTlVai-"
      },
      "source": [
        "# A function to animate solve z in both a fixed and rotating frame\r\n",
        "def solve_z_sidebyside(w, numtimes): \r\n",
        "  dt = 1                      # time step\r\n",
        "  nt = numtimes               # iterations\r\n",
        "  T = 40*np.pi/w              # integration time = 20 * natural period of pendulum  \r\n",
        "\r\n",
        "  # Rotation in clockwise and anti-clockwise direction\r\n",
        "  a1 = -1 - np.sqrt(1 + w**2)\r\n",
        "  a2 = -1 + np.sqrt(1 + w**2)\r\n",
        "\r\n",
        "  t = np.linspace(0,T,nt*dt)  # time axis\r\n",
        "  fig, axes = plt.subplots(nrows=1,ncols=2,figsize=(14,7))\r\n",
        "\r\n",
        "  # Solution in rotating frame\r\n",
        "\r\n",
        "  z = np.exp(1j*a1*t) + np.exp(1j*a2*t)\r\n",
        "  a = 2                                  # release position in the rotating frame\r\n",
        "  axes[0].scatter(a.real,a.imag, zorder=10, c='k', s=20, label='Release position')\r\n",
        "  title='Rotating Frame'\r\n",
        "  axes[0].plot(z[:int(numtimes)].real,z[:int(numtimes)].imag, label='Trajectory')\r\n",
        "  axes[0].scatter(z[int(numtimes)-1].real,z[int(numtimes)-1].imag, zorder=10, c = 'r', label='Final position')\r\n",
        "  axes[0].legend(loc='upper right')\r\n",
        "  axes[0].set(aspect=1,xlabel='$x$',ylabel='$y$',xlim=[-2,2],ylim=[-2,2],title=title)\r\n",
        "\r\n",
        "\r\n",
        "  # Solution in fixed frame\r\n",
        "  z = np.exp(1j*w*t) + np.exp(-1j*w*t) \r\n",
        "  a = 2*np.exp(1j*t)                     # release position in the  fixed frame\r\n",
        "  axes[1].scatter(a[int(numtimes)-1].real,a[int(numtimes)-1].imag, zorder=10,c='k', s=20, label='Release position')\r\n",
        "  title='Fixed Frame'\r\n",
        "\r\n",
        "  axes[1].plot(z[:int(numtimes)].real,z[:int(numtimes)].imag, label='Trajectory')\r\n",
        "  axes[1].scatter(z[int(numtimes)-1].real,z[int(numtimes)-1].imag, zorder=10, c = 'r', label='Final position')\r\n",
        "  axes[1].legend(loc='upper right')\r\n",
        "  axes[1].set(aspect=1,xlabel='$x$',ylabel='$y$',xlim=[-2,2],ylim=[-2,2],title=title)\r\n",
        "\r\n",
        "  plt.show()\r\n"
      ],
      "execution_count": 34,
      "outputs": []
    },
    {
      "cell_type": "code",
      "metadata": {
        "id": "SyquNvKXVam4"
      },
      "source": [
        "w = interactive(solve_z_sidebyside, w=(10.0), numtimes=(0,10000))\r\n",
        "display(w)"
      ],
      "execution_count": null,
      "outputs": []
    },
    {
      "cell_type": "markdown",
      "metadata": {
        "id": "uS_c6VK_b1im"
      },
      "source": [
        "## Animating the solution\r\n",
        "We've seen the solution of $z$ in both a fixed and rotating frame. We plotted the release and final positions of the pendulum, as well as tracing the path it took. In this section we will instead animate the solution, and display the animation on this very webpage.\r\n",
        "\r\n",
        "In this implementation of animating the solution we will not be able to vary our parameters without re-animating the entire solution, so make sure to select the parameter values you'd like before running the code!"
      ]
    },
    {
      "cell_type": "code",
      "metadata": {
        "id": "aVK6HHPeWB3-"
      },
      "source": [
        "# First set up the figure, the axis, and the plot element we want to animate\n",
        "fig, axes = plt.subplots(nrows=1,ncols=2,figsize=(14,7))\n",
        "\n",
        "\n",
        "zR = np.exp(1j*a1*t) + np.exp(1j*a2*t)  # solution in rotating frame\n",
        "z0 = np.exp(1j*w0*t) + np.exp(-1j*w0*t) # solution in fixed frame\n",
        "aR = 2                                  # release position in the rotating frame\n",
        "a0 = 2*np.exp(1j*t)                     # release position in the  fixed frame\n",
        "\n",
        "lineF, = axes[0].plot([],[], label='Trajectory')\n",
        "releaseF, = axes[0].plot([],[],'o', c='k', label='Release position')\n",
        "finalF, = axes[0].plot([],[],'o', c='r', label='Final position')\n",
        "\n",
        "lineR, = axes[1].plot([],[], label='Trajectory')\n",
        "releaseR, = axes[1].plot([],[], 'o', c='k', label='Release position')\n",
        "finalR, = axes[1].plot([],[],'o', c='r', label='Final position')\n",
        "\n",
        "#Solution in rotating frame\n",
        "zR = np.exp(1j*a1*t) + np.exp(1j*a2*t)\n",
        "aR = 2                                  # release position in the rotating frame\n",
        "titleR = 'Rotating Frame'\n",
        "\n",
        "# Solution in fixed frame\n",
        "zF = np.exp(1j*w*t) + np.exp(-1j*w*t) \n",
        "aF = 2*np.exp(1j*t)                     # release position in the  fixed frame\n",
        "titleF = 'Fixed Frame'\n",
        "\n",
        "axes[0].set(aspect=1,xlabel='$x$',ylabel='$y$',xlim=[-2,2],ylim=[-2,2],title=titleF)\n",
        "axes[0].legend(loc='upper right')\n",
        "\n",
        "axes[1].set(aspect=1,xlabel='$x$',ylabel='$y$',xlim=[-2,2],ylim=[-2,2],title=titleR)\n",
        "axes[1].legend(loc='upper right')\n",
        "\n",
        "time_template = 'time = %.1f'\n",
        "time_text = axes[0].text(0.05, 0.9, '', transform=ax.transAxes)\n",
        "\n",
        "\n",
        "def animate(numtimes):\n",
        "  lineF.set_data(zF[:int(numtimes)].real,zF[:int(numtimes)].imag)\n",
        "  releaseF.set_data(aF[int(numtimes)-1].real,aF[int(numtimes)-1].imag)\n",
        "  finalF.set_data(zF[int(numtimes)-1].real,zF[int(numtimes)-1].imag)\n",
        "  \n",
        "  lineR.set_data(zR[:int(numtimes)].real,zR[:int(numtimes)].imag)\n",
        "  releaseR.set_data(aR.real,aR.imag)\n",
        "  finalR.set_data(zR[int(numtimes)].real,zR[int(numtimes)].imag)\n",
        "\n",
        "  time_text.set_text(time_template % (numtimes*dt))\n",
        "\n",
        "  return lineF, releaseF, finalF, lineR, releaseR, finalR, time_text\n",
        "\n",
        "\n",
        "numframes = 100 # Number of frames to animate\n",
        "interval = 10*dt # Interval to create frames\n",
        "ani = animation.FuncAnimation(\n",
        "    fig, animate, numframes, interval=10*interval, blit=True)"
      ],
      "execution_count": null,
      "outputs": []
    },
    {
      "cell_type": "code",
      "metadata": {
        "id": "LQbInaL2jAuc"
      },
      "source": [
        "# Show the animation\r\n",
        "ani"
      ],
      "execution_count": null,
      "outputs": []
    },
    {
      "cell_type": "markdown",
      "metadata": {
        "id": "Y9Hu5seDmwmA"
      },
      "source": [
        "## Exercises\r\n",
        "- Have a look at this useful resource https://javalab.org/en/foucault_pendulum_en/ . Move the pendulum towards the equator, as well as at either pole and corresponding midlatitudes. What happens to the pendulum?\r\n",
        "- In the set of equations above we rescaled $\\omega$ so that it was the natural (non-dimensional) frequency of the system. What does $\\omega$ represent, and how might you change $\\omega$ to reflect a pendulum at different latitudes?\r\n",
        "- What happens to the pendulum as you vary $\\omega$? Similarly, what happens as $\\omega$ changes sign?\r\n",
        "- Can you change the code above to include two pendulums starting at different locations?"
      ]
    }
  ]
}